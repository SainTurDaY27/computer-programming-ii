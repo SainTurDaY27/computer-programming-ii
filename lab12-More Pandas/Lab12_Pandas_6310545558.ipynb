{
  "nbformat": 4,
  "nbformat_minor": 0,
  "metadata": {
    "colab": {
      "name": "Lab12_Pandas_6310545558.ipynb",
      "provenance": []
    },
    "kernelspec": {
      "name": "python3",
      "display_name": "Python 3"
    },
    "language_info": {
      "name": "python"
    }
  },
  "cells": [
    {
      "cell_type": "code",
      "metadata": {
        "id": "GRRuYb388FZ4"
      },
      "source": [
        "import pandas as pd"
      ],
      "execution_count": 54,
      "outputs": []
    },
    {
      "cell_type": "markdown",
      "metadata": {
        "id": "oQUBmpFmE2d5"
      },
      "source": [
        "# Euro 2012 (10 points)"
      ]
    },
    {
      "cell_type": "markdown",
      "metadata": {
        "id": "CHFmpNafV6o6"
      },
      "source": [
        "Import Euro 2012 team stats dataset from `Euro_2012.csv`\n",
        "\n",
        "Note: please upload `Euro_2012.csv` file using File Explorer tool on your left\n",
        "\n",
        "![image.png](data:image/png;base64,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)"
      ]
    },
    {
      "cell_type": "code",
      "metadata": {
        "id": "TG2vq4nCFEFj",
        "colab": {
          "base_uri": "https://localhost:8080/",
          "height": 625
        },
        "outputId": "084f2c47-3450-477f-e217-a69a0aadbe3e"
      },
      "source": [
        "euro = pd.read_csv('Euro_2012.csv')\n",
        "euro"
      ],
      "execution_count": 56,
      "outputs": [
        {
          "output_type": "execute_result",
          "data": {
            "text/html": [
              "<div>\n",
              "<style scoped>\n",
              "    .dataframe tbody tr th:only-of-type {\n",
              "        vertical-align: middle;\n",
              "    }\n",
              "\n",
              "    .dataframe tbody tr th {\n",
              "        vertical-align: top;\n",
              "    }\n",
              "\n",
              "    .dataframe thead th {\n",
              "        text-align: right;\n",
              "    }\n",
              "</style>\n",
              "<table border=\"1\" class=\"dataframe\">\n",
              "  <thead>\n",
              "    <tr style=\"text-align: right;\">\n",
              "      <th></th>\n",
              "      <th>Team</th>\n",
              "      <th>Goals</th>\n",
              "      <th>Shots on target</th>\n",
              "      <th>Shots off target</th>\n",
              "      <th>Shooting Accuracy</th>\n",
              "      <th>% Goals-to-shots</th>\n",
              "      <th>Total shots (inc. Blocked)</th>\n",
              "      <th>Hit Woodwork</th>\n",
              "      <th>Penalty goals</th>\n",
              "      <th>Penalties not scored</th>\n",
              "      <th>Headed goals</th>\n",
              "      <th>Passes</th>\n",
              "      <th>Passes completed</th>\n",
              "      <th>Passing Accuracy</th>\n",
              "      <th>Touches</th>\n",
              "      <th>Crosses</th>\n",
              "      <th>Dribbles</th>\n",
              "      <th>Corners Taken</th>\n",
              "      <th>Tackles</th>\n",
              "      <th>Clearances</th>\n",
              "      <th>Interceptions</th>\n",
              "      <th>Clearances off line</th>\n",
              "      <th>Clean Sheets</th>\n",
              "      <th>Blocks</th>\n",
              "      <th>Goals conceded</th>\n",
              "      <th>Saves made</th>\n",
              "      <th>Saves-to-shots ratio</th>\n",
              "      <th>Fouls Won</th>\n",
              "      <th>Fouls Conceded</th>\n",
              "      <th>Offsides</th>\n",
              "      <th>Yellow Cards</th>\n",
              "      <th>Red Cards</th>\n",
              "      <th>Subs on</th>\n",
              "      <th>Subs off</th>\n",
              "      <th>Players Used</th>\n",
              "    </tr>\n",
              "  </thead>\n",
              "  <tbody>\n",
              "    <tr>\n",
              "      <th>0</th>\n",
              "      <td>Croatia</td>\n",
              "      <td>4</td>\n",
              "      <td>13</td>\n",
              "      <td>12</td>\n",
              "      <td>51.9%</td>\n",
              "      <td>16.0%</td>\n",
              "      <td>32</td>\n",
              "      <td>0</td>\n",
              "      <td>0</td>\n",
              "      <td>0</td>\n",
              "      <td>2</td>\n",
              "      <td>1076</td>\n",
              "      <td>828</td>\n",
              "      <td>76.9%</td>\n",
              "      <td>1706</td>\n",
              "      <td>60</td>\n",
              "      <td>42</td>\n",
              "      <td>14</td>\n",
              "      <td>49</td>\n",
              "      <td>83</td>\n",
              "      <td>56</td>\n",
              "      <td>NaN</td>\n",
              "      <td>0</td>\n",
              "      <td>10</td>\n",
              "      <td>3</td>\n",
              "      <td>13</td>\n",
              "      <td>81.3%</td>\n",
              "      <td>41</td>\n",
              "      <td>62</td>\n",
              "      <td>2</td>\n",
              "      <td>9</td>\n",
              "      <td>0</td>\n",
              "      <td>9</td>\n",
              "      <td>9</td>\n",
              "      <td>16</td>\n",
              "    </tr>\n",
              "    <tr>\n",
              "      <th>1</th>\n",
              "      <td>Czech Republic</td>\n",
              "      <td>4</td>\n",
              "      <td>13</td>\n",
              "      <td>18</td>\n",
              "      <td>41.9%</td>\n",
              "      <td>12.9%</td>\n",
              "      <td>39</td>\n",
              "      <td>0</td>\n",
              "      <td>0</td>\n",
              "      <td>0</td>\n",
              "      <td>0</td>\n",
              "      <td>1565</td>\n",
              "      <td>1223</td>\n",
              "      <td>78.1%</td>\n",
              "      <td>2358</td>\n",
              "      <td>46</td>\n",
              "      <td>68</td>\n",
              "      <td>21</td>\n",
              "      <td>62</td>\n",
              "      <td>98</td>\n",
              "      <td>37</td>\n",
              "      <td>2.0</td>\n",
              "      <td>1</td>\n",
              "      <td>10</td>\n",
              "      <td>6</td>\n",
              "      <td>9</td>\n",
              "      <td>60.1%</td>\n",
              "      <td>53</td>\n",
              "      <td>73</td>\n",
              "      <td>8</td>\n",
              "      <td>7</td>\n",
              "      <td>0</td>\n",
              "      <td>11</td>\n",
              "      <td>11</td>\n",
              "      <td>19</td>\n",
              "    </tr>\n",
              "    <tr>\n",
              "      <th>2</th>\n",
              "      <td>Denmark</td>\n",
              "      <td>4</td>\n",
              "      <td>10</td>\n",
              "      <td>10</td>\n",
              "      <td>50.0%</td>\n",
              "      <td>20.0%</td>\n",
              "      <td>27</td>\n",
              "      <td>1</td>\n",
              "      <td>0</td>\n",
              "      <td>0</td>\n",
              "      <td>3</td>\n",
              "      <td>1298</td>\n",
              "      <td>1082</td>\n",
              "      <td>83.3%</td>\n",
              "      <td>1873</td>\n",
              "      <td>43</td>\n",
              "      <td>32</td>\n",
              "      <td>16</td>\n",
              "      <td>40</td>\n",
              "      <td>61</td>\n",
              "      <td>59</td>\n",
              "      <td>0.0</td>\n",
              "      <td>1</td>\n",
              "      <td>10</td>\n",
              "      <td>5</td>\n",
              "      <td>10</td>\n",
              "      <td>66.7%</td>\n",
              "      <td>25</td>\n",
              "      <td>38</td>\n",
              "      <td>8</td>\n",
              "      <td>4</td>\n",
              "      <td>0</td>\n",
              "      <td>7</td>\n",
              "      <td>7</td>\n",
              "      <td>15</td>\n",
              "    </tr>\n",
              "    <tr>\n",
              "      <th>3</th>\n",
              "      <td>England</td>\n",
              "      <td>5</td>\n",
              "      <td>11</td>\n",
              "      <td>18</td>\n",
              "      <td>50.0%</td>\n",
              "      <td>17.2%</td>\n",
              "      <td>40</td>\n",
              "      <td>0</td>\n",
              "      <td>0</td>\n",
              "      <td>0</td>\n",
              "      <td>3</td>\n",
              "      <td>1488</td>\n",
              "      <td>1200</td>\n",
              "      <td>80.6%</td>\n",
              "      <td>2440</td>\n",
              "      <td>58</td>\n",
              "      <td>60</td>\n",
              "      <td>16</td>\n",
              "      <td>86</td>\n",
              "      <td>106</td>\n",
              "      <td>72</td>\n",
              "      <td>1.0</td>\n",
              "      <td>2</td>\n",
              "      <td>29</td>\n",
              "      <td>3</td>\n",
              "      <td>22</td>\n",
              "      <td>88.1%</td>\n",
              "      <td>43</td>\n",
              "      <td>45</td>\n",
              "      <td>6</td>\n",
              "      <td>5</td>\n",
              "      <td>0</td>\n",
              "      <td>11</td>\n",
              "      <td>11</td>\n",
              "      <td>16</td>\n",
              "    </tr>\n",
              "    <tr>\n",
              "      <th>4</th>\n",
              "      <td>France</td>\n",
              "      <td>3</td>\n",
              "      <td>22</td>\n",
              "      <td>24</td>\n",
              "      <td>37.9%</td>\n",
              "      <td>6.5%</td>\n",
              "      <td>65</td>\n",
              "      <td>1</td>\n",
              "      <td>0</td>\n",
              "      <td>0</td>\n",
              "      <td>0</td>\n",
              "      <td>2066</td>\n",
              "      <td>1803</td>\n",
              "      <td>87.2%</td>\n",
              "      <td>2909</td>\n",
              "      <td>55</td>\n",
              "      <td>76</td>\n",
              "      <td>28</td>\n",
              "      <td>71</td>\n",
              "      <td>76</td>\n",
              "      <td>58</td>\n",
              "      <td>0.0</td>\n",
              "      <td>1</td>\n",
              "      <td>7</td>\n",
              "      <td>5</td>\n",
              "      <td>6</td>\n",
              "      <td>54.6%</td>\n",
              "      <td>36</td>\n",
              "      <td>51</td>\n",
              "      <td>5</td>\n",
              "      <td>6</td>\n",
              "      <td>0</td>\n",
              "      <td>11</td>\n",
              "      <td>11</td>\n",
              "      <td>19</td>\n",
              "    </tr>\n",
              "    <tr>\n",
              "      <th>5</th>\n",
              "      <td>Germany</td>\n",
              "      <td>10</td>\n",
              "      <td>32</td>\n",
              "      <td>32</td>\n",
              "      <td>47.8%</td>\n",
              "      <td>15.6%</td>\n",
              "      <td>80</td>\n",
              "      <td>2</td>\n",
              "      <td>1</td>\n",
              "      <td>0</td>\n",
              "      <td>2</td>\n",
              "      <td>2774</td>\n",
              "      <td>2427</td>\n",
              "      <td>87.4%</td>\n",
              "      <td>3761</td>\n",
              "      <td>101</td>\n",
              "      <td>60</td>\n",
              "      <td>35</td>\n",
              "      <td>91</td>\n",
              "      <td>73</td>\n",
              "      <td>69</td>\n",
              "      <td>0.0</td>\n",
              "      <td>1</td>\n",
              "      <td>11</td>\n",
              "      <td>6</td>\n",
              "      <td>10</td>\n",
              "      <td>62.6%</td>\n",
              "      <td>63</td>\n",
              "      <td>49</td>\n",
              "      <td>12</td>\n",
              "      <td>4</td>\n",
              "      <td>0</td>\n",
              "      <td>15</td>\n",
              "      <td>15</td>\n",
              "      <td>17</td>\n",
              "    </tr>\n",
              "    <tr>\n",
              "      <th>6</th>\n",
              "      <td>Greece</td>\n",
              "      <td>5</td>\n",
              "      <td>8</td>\n",
              "      <td>18</td>\n",
              "      <td>30.7%</td>\n",
              "      <td>19.2%</td>\n",
              "      <td>32</td>\n",
              "      <td>1</td>\n",
              "      <td>1</td>\n",
              "      <td>1</td>\n",
              "      <td>0</td>\n",
              "      <td>1187</td>\n",
              "      <td>911</td>\n",
              "      <td>76.7%</td>\n",
              "      <td>2016</td>\n",
              "      <td>52</td>\n",
              "      <td>53</td>\n",
              "      <td>10</td>\n",
              "      <td>65</td>\n",
              "      <td>123</td>\n",
              "      <td>87</td>\n",
              "      <td>0.0</td>\n",
              "      <td>1</td>\n",
              "      <td>23</td>\n",
              "      <td>7</td>\n",
              "      <td>13</td>\n",
              "      <td>65.1%</td>\n",
              "      <td>67</td>\n",
              "      <td>48</td>\n",
              "      <td>12</td>\n",
              "      <td>9</td>\n",
              "      <td>1</td>\n",
              "      <td>12</td>\n",
              "      <td>12</td>\n",
              "      <td>20</td>\n",
              "    </tr>\n",
              "    <tr>\n",
              "      <th>7</th>\n",
              "      <td>Italy</td>\n",
              "      <td>6</td>\n",
              "      <td>34</td>\n",
              "      <td>45</td>\n",
              "      <td>43.0%</td>\n",
              "      <td>7.5%</td>\n",
              "      <td>110</td>\n",
              "      <td>2</td>\n",
              "      <td>0</td>\n",
              "      <td>0</td>\n",
              "      <td>2</td>\n",
              "      <td>3016</td>\n",
              "      <td>2531</td>\n",
              "      <td>83.9%</td>\n",
              "      <td>4363</td>\n",
              "      <td>75</td>\n",
              "      <td>75</td>\n",
              "      <td>30</td>\n",
              "      <td>98</td>\n",
              "      <td>137</td>\n",
              "      <td>136</td>\n",
              "      <td>1.0</td>\n",
              "      <td>2</td>\n",
              "      <td>18</td>\n",
              "      <td>7</td>\n",
              "      <td>20</td>\n",
              "      <td>74.1%</td>\n",
              "      <td>101</td>\n",
              "      <td>89</td>\n",
              "      <td>16</td>\n",
              "      <td>16</td>\n",
              "      <td>0</td>\n",
              "      <td>18</td>\n",
              "      <td>18</td>\n",
              "      <td>19</td>\n",
              "    </tr>\n",
              "    <tr>\n",
              "      <th>8</th>\n",
              "      <td>Netherlands</td>\n",
              "      <td>2</td>\n",
              "      <td>12</td>\n",
              "      <td>36</td>\n",
              "      <td>25.0%</td>\n",
              "      <td>4.1%</td>\n",
              "      <td>60</td>\n",
              "      <td>2</td>\n",
              "      <td>0</td>\n",
              "      <td>0</td>\n",
              "      <td>0</td>\n",
              "      <td>1556</td>\n",
              "      <td>1381</td>\n",
              "      <td>88.7%</td>\n",
              "      <td>2163</td>\n",
              "      <td>50</td>\n",
              "      <td>49</td>\n",
              "      <td>22</td>\n",
              "      <td>34</td>\n",
              "      <td>41</td>\n",
              "      <td>41</td>\n",
              "      <td>0.0</td>\n",
              "      <td>0</td>\n",
              "      <td>9</td>\n",
              "      <td>5</td>\n",
              "      <td>12</td>\n",
              "      <td>70.6%</td>\n",
              "      <td>35</td>\n",
              "      <td>30</td>\n",
              "      <td>3</td>\n",
              "      <td>5</td>\n",
              "      <td>0</td>\n",
              "      <td>7</td>\n",
              "      <td>7</td>\n",
              "      <td>15</td>\n",
              "    </tr>\n",
              "    <tr>\n",
              "      <th>9</th>\n",
              "      <td>Poland</td>\n",
              "      <td>2</td>\n",
              "      <td>15</td>\n",
              "      <td>23</td>\n",
              "      <td>39.4%</td>\n",
              "      <td>5.2%</td>\n",
              "      <td>48</td>\n",
              "      <td>0</td>\n",
              "      <td>0</td>\n",
              "      <td>0</td>\n",
              "      <td>1</td>\n",
              "      <td>1059</td>\n",
              "      <td>852</td>\n",
              "      <td>80.4%</td>\n",
              "      <td>1724</td>\n",
              "      <td>55</td>\n",
              "      <td>39</td>\n",
              "      <td>14</td>\n",
              "      <td>67</td>\n",
              "      <td>87</td>\n",
              "      <td>62</td>\n",
              "      <td>0.0</td>\n",
              "      <td>0</td>\n",
              "      <td>8</td>\n",
              "      <td>3</td>\n",
              "      <td>6</td>\n",
              "      <td>66.7%</td>\n",
              "      <td>48</td>\n",
              "      <td>56</td>\n",
              "      <td>3</td>\n",
              "      <td>7</td>\n",
              "      <td>1</td>\n",
              "      <td>7</td>\n",
              "      <td>7</td>\n",
              "      <td>17</td>\n",
              "    </tr>\n",
              "    <tr>\n",
              "      <th>10</th>\n",
              "      <td>Portugal</td>\n",
              "      <td>6</td>\n",
              "      <td>22</td>\n",
              "      <td>42</td>\n",
              "      <td>34.3%</td>\n",
              "      <td>9.3%</td>\n",
              "      <td>82</td>\n",
              "      <td>6</td>\n",
              "      <td>0</td>\n",
              "      <td>0</td>\n",
              "      <td>2</td>\n",
              "      <td>1891</td>\n",
              "      <td>1461</td>\n",
              "      <td>77.2%</td>\n",
              "      <td>2958</td>\n",
              "      <td>91</td>\n",
              "      <td>64</td>\n",
              "      <td>41</td>\n",
              "      <td>78</td>\n",
              "      <td>92</td>\n",
              "      <td>86</td>\n",
              "      <td>0.0</td>\n",
              "      <td>2</td>\n",
              "      <td>11</td>\n",
              "      <td>4</td>\n",
              "      <td>10</td>\n",
              "      <td>71.5%</td>\n",
              "      <td>73</td>\n",
              "      <td>90</td>\n",
              "      <td>10</td>\n",
              "      <td>12</td>\n",
              "      <td>0</td>\n",
              "      <td>14</td>\n",
              "      <td>14</td>\n",
              "      <td>16</td>\n",
              "    </tr>\n",
              "    <tr>\n",
              "      <th>11</th>\n",
              "      <td>Republic of Ireland</td>\n",
              "      <td>1</td>\n",
              "      <td>7</td>\n",
              "      <td>12</td>\n",
              "      <td>36.8%</td>\n",
              "      <td>5.2%</td>\n",
              "      <td>28</td>\n",
              "      <td>0</td>\n",
              "      <td>0</td>\n",
              "      <td>0</td>\n",
              "      <td>1</td>\n",
              "      <td>851</td>\n",
              "      <td>606</td>\n",
              "      <td>71.2%</td>\n",
              "      <td>1433</td>\n",
              "      <td>43</td>\n",
              "      <td>18</td>\n",
              "      <td>8</td>\n",
              "      <td>45</td>\n",
              "      <td>78</td>\n",
              "      <td>43</td>\n",
              "      <td>1.0</td>\n",
              "      <td>0</td>\n",
              "      <td>23</td>\n",
              "      <td>9</td>\n",
              "      <td>17</td>\n",
              "      <td>65.4%</td>\n",
              "      <td>43</td>\n",
              "      <td>51</td>\n",
              "      <td>11</td>\n",
              "      <td>6</td>\n",
              "      <td>1</td>\n",
              "      <td>10</td>\n",
              "      <td>10</td>\n",
              "      <td>17</td>\n",
              "    </tr>\n",
              "    <tr>\n",
              "      <th>12</th>\n",
              "      <td>Russia</td>\n",
              "      <td>5</td>\n",
              "      <td>9</td>\n",
              "      <td>31</td>\n",
              "      <td>22.5%</td>\n",
              "      <td>12.5%</td>\n",
              "      <td>59</td>\n",
              "      <td>2</td>\n",
              "      <td>0</td>\n",
              "      <td>0</td>\n",
              "      <td>1</td>\n",
              "      <td>1602</td>\n",
              "      <td>1345</td>\n",
              "      <td>83.9%</td>\n",
              "      <td>2278</td>\n",
              "      <td>40</td>\n",
              "      <td>40</td>\n",
              "      <td>21</td>\n",
              "      <td>65</td>\n",
              "      <td>74</td>\n",
              "      <td>58</td>\n",
              "      <td>0.0</td>\n",
              "      <td>0</td>\n",
              "      <td>8</td>\n",
              "      <td>3</td>\n",
              "      <td>10</td>\n",
              "      <td>77.0%</td>\n",
              "      <td>34</td>\n",
              "      <td>43</td>\n",
              "      <td>4</td>\n",
              "      <td>6</td>\n",
              "      <td>0</td>\n",
              "      <td>7</td>\n",
              "      <td>7</td>\n",
              "      <td>16</td>\n",
              "    </tr>\n",
              "    <tr>\n",
              "      <th>13</th>\n",
              "      <td>Spain</td>\n",
              "      <td>12</td>\n",
              "      <td>42</td>\n",
              "      <td>33</td>\n",
              "      <td>55.9%</td>\n",
              "      <td>16.0%</td>\n",
              "      <td>100</td>\n",
              "      <td>0</td>\n",
              "      <td>1</td>\n",
              "      <td>0</td>\n",
              "      <td>2</td>\n",
              "      <td>4317</td>\n",
              "      <td>3820</td>\n",
              "      <td>88.4%</td>\n",
              "      <td>5585</td>\n",
              "      <td>69</td>\n",
              "      <td>106</td>\n",
              "      <td>44</td>\n",
              "      <td>122</td>\n",
              "      <td>102</td>\n",
              "      <td>79</td>\n",
              "      <td>0.0</td>\n",
              "      <td>5</td>\n",
              "      <td>8</td>\n",
              "      <td>1</td>\n",
              "      <td>15</td>\n",
              "      <td>93.8%</td>\n",
              "      <td>102</td>\n",
              "      <td>83</td>\n",
              "      <td>19</td>\n",
              "      <td>11</td>\n",
              "      <td>0</td>\n",
              "      <td>17</td>\n",
              "      <td>17</td>\n",
              "      <td>18</td>\n",
              "    </tr>\n",
              "    <tr>\n",
              "      <th>14</th>\n",
              "      <td>Sweden</td>\n",
              "      <td>5</td>\n",
              "      <td>17</td>\n",
              "      <td>19</td>\n",
              "      <td>47.2%</td>\n",
              "      <td>13.8%</td>\n",
              "      <td>39</td>\n",
              "      <td>3</td>\n",
              "      <td>0</td>\n",
              "      <td>0</td>\n",
              "      <td>1</td>\n",
              "      <td>1192</td>\n",
              "      <td>965</td>\n",
              "      <td>80.9%</td>\n",
              "      <td>1806</td>\n",
              "      <td>44</td>\n",
              "      <td>29</td>\n",
              "      <td>7</td>\n",
              "      <td>56</td>\n",
              "      <td>54</td>\n",
              "      <td>45</td>\n",
              "      <td>0.0</td>\n",
              "      <td>1</td>\n",
              "      <td>12</td>\n",
              "      <td>5</td>\n",
              "      <td>8</td>\n",
              "      <td>61.6%</td>\n",
              "      <td>35</td>\n",
              "      <td>51</td>\n",
              "      <td>7</td>\n",
              "      <td>7</td>\n",
              "      <td>0</td>\n",
              "      <td>9</td>\n",
              "      <td>9</td>\n",
              "      <td>18</td>\n",
              "    </tr>\n",
              "    <tr>\n",
              "      <th>15</th>\n",
              "      <td>Ukraine</td>\n",
              "      <td>2</td>\n",
              "      <td>7</td>\n",
              "      <td>26</td>\n",
              "      <td>21.2%</td>\n",
              "      <td>6.0%</td>\n",
              "      <td>38</td>\n",
              "      <td>0</td>\n",
              "      <td>0</td>\n",
              "      <td>0</td>\n",
              "      <td>2</td>\n",
              "      <td>1276</td>\n",
              "      <td>1043</td>\n",
              "      <td>81.7%</td>\n",
              "      <td>1894</td>\n",
              "      <td>33</td>\n",
              "      <td>26</td>\n",
              "      <td>18</td>\n",
              "      <td>65</td>\n",
              "      <td>97</td>\n",
              "      <td>29</td>\n",
              "      <td>0.0</td>\n",
              "      <td>0</td>\n",
              "      <td>4</td>\n",
              "      <td>4</td>\n",
              "      <td>13</td>\n",
              "      <td>76.5%</td>\n",
              "      <td>48</td>\n",
              "      <td>31</td>\n",
              "      <td>4</td>\n",
              "      <td>5</td>\n",
              "      <td>0</td>\n",
              "      <td>9</td>\n",
              "      <td>9</td>\n",
              "      <td>18</td>\n",
              "    </tr>\n",
              "  </tbody>\n",
              "</table>\n",
              "</div>"
            ],
            "text/plain": [
              "                   Team  Goals  ...  Subs off  Players Used\n",
              "0               Croatia      4  ...         9            16\n",
              "1        Czech Republic      4  ...        11            19\n",
              "2               Denmark      4  ...         7            15\n",
              "3               England      5  ...        11            16\n",
              "4                France      3  ...        11            19\n",
              "5               Germany     10  ...        15            17\n",
              "6                Greece      5  ...        12            20\n",
              "7                 Italy      6  ...        18            19\n",
              "8           Netherlands      2  ...         7            15\n",
              "9                Poland      2  ...         7            17\n",
              "10             Portugal      6  ...        14            16\n",
              "11  Republic of Ireland      1  ...        10            17\n",
              "12               Russia      5  ...         7            16\n",
              "13                Spain     12  ...        17            18\n",
              "14               Sweden      5  ...         9            18\n",
              "15              Ukraine      2  ...         9            18\n",
              "\n",
              "[16 rows x 35 columns]"
            ]
          },
          "metadata": {
            "tags": []
          },
          "execution_count": 56
        }
      ]
    },
    {
      "cell_type": "markdown",
      "metadata": {
        "id": "o7vjm8opFEKO"
      },
      "source": [
        "Get the number of teams participated in the Euro2012?"
      ]
    },
    {
      "cell_type": "code",
      "metadata": {
        "id": "pyxVqgjBFR3g",
        "colab": {
          "base_uri": "https://localhost:8080/"
        },
        "outputId": "a809e1ee-7a52-4202-c5d2-c7843b5a2f06"
      },
      "source": [
        "num_team = len(euro.index)\n",
        "num_team"
      ],
      "execution_count": 57,
      "outputs": [
        {
          "output_type": "execute_result",
          "data": {
            "text/plain": [
              "16"
            ]
          },
          "metadata": {
            "tags": []
          },
          "execution_count": 57
        }
      ]
    },
    {
      "cell_type": "markdown",
      "metadata": {
        "id": "N7RfPr-pFR86"
      },
      "source": [
        "List all the columns in the dataset using `info()`"
      ]
    },
    {
      "cell_type": "code",
      "metadata": {
        "id": "85uAQFfkFY4m",
        "colab": {
          "base_uri": "https://localhost:8080/"
        },
        "outputId": "6fea0f73-8dd2-4a94-fd6e-7b7e244bea43"
      },
      "source": [
        "euro.info()"
      ],
      "execution_count": 58,
      "outputs": [
        {
          "output_type": "stream",
          "text": [
            "<class 'pandas.core.frame.DataFrame'>\n",
            "RangeIndex: 16 entries, 0 to 15\n",
            "Data columns (total 35 columns):\n",
            " #   Column                      Non-Null Count  Dtype  \n",
            "---  ------                      --------------  -----  \n",
            " 0   Team                        16 non-null     object \n",
            " 1   Goals                       16 non-null     int64  \n",
            " 2   Shots on target             16 non-null     int64  \n",
            " 3   Shots off target            16 non-null     int64  \n",
            " 4   Shooting Accuracy           16 non-null     object \n",
            " 5   % Goals-to-shots            16 non-null     object \n",
            " 6   Total shots (inc. Blocked)  16 non-null     int64  \n",
            " 7   Hit Woodwork                16 non-null     int64  \n",
            " 8   Penalty goals               16 non-null     int64  \n",
            " 9   Penalties not scored        16 non-null     int64  \n",
            " 10  Headed goals                16 non-null     int64  \n",
            " 11  Passes                      16 non-null     int64  \n",
            " 12  Passes completed            16 non-null     int64  \n",
            " 13  Passing Accuracy            16 non-null     object \n",
            " 14  Touches                     16 non-null     int64  \n",
            " 15  Crosses                     16 non-null     int64  \n",
            " 16  Dribbles                    16 non-null     int64  \n",
            " 17  Corners Taken               16 non-null     int64  \n",
            " 18  Tackles                     16 non-null     int64  \n",
            " 19  Clearances                  16 non-null     int64  \n",
            " 20  Interceptions               16 non-null     int64  \n",
            " 21  Clearances off line         15 non-null     float64\n",
            " 22  Clean Sheets                16 non-null     int64  \n",
            " 23  Blocks                      16 non-null     int64  \n",
            " 24  Goals conceded              16 non-null     int64  \n",
            " 25  Saves made                  16 non-null     int64  \n",
            " 26  Saves-to-shots ratio        16 non-null     object \n",
            " 27  Fouls Won                   16 non-null     int64  \n",
            " 28  Fouls Conceded              16 non-null     int64  \n",
            " 29  Offsides                    16 non-null     int64  \n",
            " 30  Yellow Cards                16 non-null     int64  \n",
            " 31  Red Cards                   16 non-null     int64  \n",
            " 32  Subs on                     16 non-null     int64  \n",
            " 33  Subs off                    16 non-null     int64  \n",
            " 34  Players Used                16 non-null     int64  \n",
            "dtypes: float64(1), int64(29), object(5)\n",
            "memory usage: 4.5+ KB\n"
          ],
          "name": "stdout"
        }
      ]
    },
    {
      "cell_type": "markdown",
      "metadata": {
        "id": "HqMXaKeKFYvI"
      },
      "source": [
        "Create a DataFrame `discipline` consisting of Team, Yellow Cards, Red Cards columns"
      ]
    },
    {
      "cell_type": "code",
      "metadata": {
        "id": "-mXggFc6Fkp7",
        "colab": {
          "base_uri": "https://localhost:8080/",
          "height": 521
        },
        "outputId": "50dd748a-3634-4c8c-f39d-0ff787c0d947"
      },
      "source": [
        "discipline = pd.DataFrame({\n",
        "    'Team' : euro[\"Team\"],\n",
        "    'Yellow Cards' : euro[\"Yellow Cards\"],\n",
        "    'Red Cards' : euro[\"Red Cards\"]\n",
        "})\n",
        "discipline"
      ],
      "execution_count": 59,
      "outputs": [
        {
          "output_type": "execute_result",
          "data": {
            "text/html": [
              "<div>\n",
              "<style scoped>\n",
              "    .dataframe tbody tr th:only-of-type {\n",
              "        vertical-align: middle;\n",
              "    }\n",
              "\n",
              "    .dataframe tbody tr th {\n",
              "        vertical-align: top;\n",
              "    }\n",
              "\n",
              "    .dataframe thead th {\n",
              "        text-align: right;\n",
              "    }\n",
              "</style>\n",
              "<table border=\"1\" class=\"dataframe\">\n",
              "  <thead>\n",
              "    <tr style=\"text-align: right;\">\n",
              "      <th></th>\n",
              "      <th>Team</th>\n",
              "      <th>Yellow Cards</th>\n",
              "      <th>Red Cards</th>\n",
              "    </tr>\n",
              "  </thead>\n",
              "  <tbody>\n",
              "    <tr>\n",
              "      <th>0</th>\n",
              "      <td>Croatia</td>\n",
              "      <td>9</td>\n",
              "      <td>0</td>\n",
              "    </tr>\n",
              "    <tr>\n",
              "      <th>1</th>\n",
              "      <td>Czech Republic</td>\n",
              "      <td>7</td>\n",
              "      <td>0</td>\n",
              "    </tr>\n",
              "    <tr>\n",
              "      <th>2</th>\n",
              "      <td>Denmark</td>\n",
              "      <td>4</td>\n",
              "      <td>0</td>\n",
              "    </tr>\n",
              "    <tr>\n",
              "      <th>3</th>\n",
              "      <td>England</td>\n",
              "      <td>5</td>\n",
              "      <td>0</td>\n",
              "    </tr>\n",
              "    <tr>\n",
              "      <th>4</th>\n",
              "      <td>France</td>\n",
              "      <td>6</td>\n",
              "      <td>0</td>\n",
              "    </tr>\n",
              "    <tr>\n",
              "      <th>5</th>\n",
              "      <td>Germany</td>\n",
              "      <td>4</td>\n",
              "      <td>0</td>\n",
              "    </tr>\n",
              "    <tr>\n",
              "      <th>6</th>\n",
              "      <td>Greece</td>\n",
              "      <td>9</td>\n",
              "      <td>1</td>\n",
              "    </tr>\n",
              "    <tr>\n",
              "      <th>7</th>\n",
              "      <td>Italy</td>\n",
              "      <td>16</td>\n",
              "      <td>0</td>\n",
              "    </tr>\n",
              "    <tr>\n",
              "      <th>8</th>\n",
              "      <td>Netherlands</td>\n",
              "      <td>5</td>\n",
              "      <td>0</td>\n",
              "    </tr>\n",
              "    <tr>\n",
              "      <th>9</th>\n",
              "      <td>Poland</td>\n",
              "      <td>7</td>\n",
              "      <td>1</td>\n",
              "    </tr>\n",
              "    <tr>\n",
              "      <th>10</th>\n",
              "      <td>Portugal</td>\n",
              "      <td>12</td>\n",
              "      <td>0</td>\n",
              "    </tr>\n",
              "    <tr>\n",
              "      <th>11</th>\n",
              "      <td>Republic of Ireland</td>\n",
              "      <td>6</td>\n",
              "      <td>1</td>\n",
              "    </tr>\n",
              "    <tr>\n",
              "      <th>12</th>\n",
              "      <td>Russia</td>\n",
              "      <td>6</td>\n",
              "      <td>0</td>\n",
              "    </tr>\n",
              "    <tr>\n",
              "      <th>13</th>\n",
              "      <td>Spain</td>\n",
              "      <td>11</td>\n",
              "      <td>0</td>\n",
              "    </tr>\n",
              "    <tr>\n",
              "      <th>14</th>\n",
              "      <td>Sweden</td>\n",
              "      <td>7</td>\n",
              "      <td>0</td>\n",
              "    </tr>\n",
              "    <tr>\n",
              "      <th>15</th>\n",
              "      <td>Ukraine</td>\n",
              "      <td>5</td>\n",
              "      <td>0</td>\n",
              "    </tr>\n",
              "  </tbody>\n",
              "</table>\n",
              "</div>"
            ],
            "text/plain": [
              "                   Team  Yellow Cards  Red Cards\n",
              "0               Croatia             9          0\n",
              "1        Czech Republic             7          0\n",
              "2               Denmark             4          0\n",
              "3               England             5          0\n",
              "4                France             6          0\n",
              "5               Germany             4          0\n",
              "6                Greece             9          1\n",
              "7                 Italy            16          0\n",
              "8           Netherlands             5          0\n",
              "9                Poland             7          1\n",
              "10             Portugal            12          0\n",
              "11  Republic of Ireland             6          1\n",
              "12               Russia             6          0\n",
              "13                Spain            11          0\n",
              "14               Sweden             7          0\n",
              "15              Ukraine             5          0"
            ]
          },
          "metadata": {
            "tags": []
          },
          "execution_count": 59
        }
      ]
    },
    {
      "cell_type": "markdown",
      "metadata": {
        "id": "6xgkuh3NFkw7"
      },
      "source": [
        "Sort the teams by Red Cards, then Yellow Cards in descending order"
      ]
    },
    {
      "cell_type": "code",
      "metadata": {
        "id": "haiOfeGgFuCs",
        "colab": {
          "base_uri": "https://localhost:8080/",
          "height": 521
        },
        "outputId": "df4aaad9-6df9-4ecf-e391-c7627940b436"
      },
      "source": [
        "discipline.sort_values(by=['Red Cards', 'Yellow Cards'], ascending=False)"
      ],
      "execution_count": 60,
      "outputs": [
        {
          "output_type": "execute_result",
          "data": {
            "text/html": [
              "<div>\n",
              "<style scoped>\n",
              "    .dataframe tbody tr th:only-of-type {\n",
              "        vertical-align: middle;\n",
              "    }\n",
              "\n",
              "    .dataframe tbody tr th {\n",
              "        vertical-align: top;\n",
              "    }\n",
              "\n",
              "    .dataframe thead th {\n",
              "        text-align: right;\n",
              "    }\n",
              "</style>\n",
              "<table border=\"1\" class=\"dataframe\">\n",
              "  <thead>\n",
              "    <tr style=\"text-align: right;\">\n",
              "      <th></th>\n",
              "      <th>Team</th>\n",
              "      <th>Yellow Cards</th>\n",
              "      <th>Red Cards</th>\n",
              "    </tr>\n",
              "  </thead>\n",
              "  <tbody>\n",
              "    <tr>\n",
              "      <th>6</th>\n",
              "      <td>Greece</td>\n",
              "      <td>9</td>\n",
              "      <td>1</td>\n",
              "    </tr>\n",
              "    <tr>\n",
              "      <th>9</th>\n",
              "      <td>Poland</td>\n",
              "      <td>7</td>\n",
              "      <td>1</td>\n",
              "    </tr>\n",
              "    <tr>\n",
              "      <th>11</th>\n",
              "      <td>Republic of Ireland</td>\n",
              "      <td>6</td>\n",
              "      <td>1</td>\n",
              "    </tr>\n",
              "    <tr>\n",
              "      <th>7</th>\n",
              "      <td>Italy</td>\n",
              "      <td>16</td>\n",
              "      <td>0</td>\n",
              "    </tr>\n",
              "    <tr>\n",
              "      <th>10</th>\n",
              "      <td>Portugal</td>\n",
              "      <td>12</td>\n",
              "      <td>0</td>\n",
              "    </tr>\n",
              "    <tr>\n",
              "      <th>13</th>\n",
              "      <td>Spain</td>\n",
              "      <td>11</td>\n",
              "      <td>0</td>\n",
              "    </tr>\n",
              "    <tr>\n",
              "      <th>0</th>\n",
              "      <td>Croatia</td>\n",
              "      <td>9</td>\n",
              "      <td>0</td>\n",
              "    </tr>\n",
              "    <tr>\n",
              "      <th>1</th>\n",
              "      <td>Czech Republic</td>\n",
              "      <td>7</td>\n",
              "      <td>0</td>\n",
              "    </tr>\n",
              "    <tr>\n",
              "      <th>14</th>\n",
              "      <td>Sweden</td>\n",
              "      <td>7</td>\n",
              "      <td>0</td>\n",
              "    </tr>\n",
              "    <tr>\n",
              "      <th>4</th>\n",
              "      <td>France</td>\n",
              "      <td>6</td>\n",
              "      <td>0</td>\n",
              "    </tr>\n",
              "    <tr>\n",
              "      <th>12</th>\n",
              "      <td>Russia</td>\n",
              "      <td>6</td>\n",
              "      <td>0</td>\n",
              "    </tr>\n",
              "    <tr>\n",
              "      <th>3</th>\n",
              "      <td>England</td>\n",
              "      <td>5</td>\n",
              "      <td>0</td>\n",
              "    </tr>\n",
              "    <tr>\n",
              "      <th>8</th>\n",
              "      <td>Netherlands</td>\n",
              "      <td>5</td>\n",
              "      <td>0</td>\n",
              "    </tr>\n",
              "    <tr>\n",
              "      <th>15</th>\n",
              "      <td>Ukraine</td>\n",
              "      <td>5</td>\n",
              "      <td>0</td>\n",
              "    </tr>\n",
              "    <tr>\n",
              "      <th>2</th>\n",
              "      <td>Denmark</td>\n",
              "      <td>4</td>\n",
              "      <td>0</td>\n",
              "    </tr>\n",
              "    <tr>\n",
              "      <th>5</th>\n",
              "      <td>Germany</td>\n",
              "      <td>4</td>\n",
              "      <td>0</td>\n",
              "    </tr>\n",
              "  </tbody>\n",
              "</table>\n",
              "</div>"
            ],
            "text/plain": [
              "                   Team  Yellow Cards  Red Cards\n",
              "6                Greece             9          1\n",
              "9                Poland             7          1\n",
              "11  Republic of Ireland             6          1\n",
              "7                 Italy            16          0\n",
              "10             Portugal            12          0\n",
              "13                Spain            11          0\n",
              "0               Croatia             9          0\n",
              "1        Czech Republic             7          0\n",
              "14               Sweden             7          0\n",
              "4                France             6          0\n",
              "12               Russia             6          0\n",
              "3               England             5          0\n",
              "8           Netherlands             5          0\n",
              "15              Ukraine             5          0\n",
              "2               Denmark             4          0\n",
              "5               Germany             4          0"
            ]
          },
          "metadata": {
            "tags": []
          },
          "execution_count": 60
        }
      ]
    },
    {
      "cell_type": "markdown",
      "metadata": {
        "id": "MdFNr7X8F2nq"
      },
      "source": [
        "Compute the average number of Yellow Cards given per Team"
      ]
    },
    {
      "cell_type": "code",
      "metadata": {
        "id": "Yd0p0GO6F4_h",
        "colab": {
          "base_uri": "https://localhost:8080/"
        },
        "outputId": "c4570e8b-f7f9-441c-f626-7e397417e4c6"
      },
      "source": [
        "yellow_card_average = euro[\"Yellow Cards\"]\n",
        "yellow_card_average.mean()"
      ],
      "execution_count": 61,
      "outputs": [
        {
          "output_type": "execute_result",
          "data": {
            "text/plain": [
              "7.4375"
            ]
          },
          "metadata": {
            "tags": []
          },
          "execution_count": 61
        }
      ]
    },
    {
      "cell_type": "markdown",
      "metadata": {
        "id": "DzQK2H0wF5D4"
      },
      "source": [
        "Show a DataFrame of teams that scored more than 6 goals"
      ]
    },
    {
      "cell_type": "code",
      "metadata": {
        "id": "01U4Zl1DG2be",
        "colab": {
          "base_uri": "https://localhost:8080/",
          "height": 521
        },
        "outputId": "b28ce93f-9e3f-42c8-e5b1-a99d91c055b8"
      },
      "source": [
        "more_than_6 = pd.DataFrame({\n",
        "    'Name' : euro[\"Team\"],\n",
        "    'More Than 6 Goals' : euro[\"Goals\"] >= 6\n",
        "})\n",
        "more_than_6"
      ],
      "execution_count": 62,
      "outputs": [
        {
          "output_type": "execute_result",
          "data": {
            "text/html": [
              "<div>\n",
              "<style scoped>\n",
              "    .dataframe tbody tr th:only-of-type {\n",
              "        vertical-align: middle;\n",
              "    }\n",
              "\n",
              "    .dataframe tbody tr th {\n",
              "        vertical-align: top;\n",
              "    }\n",
              "\n",
              "    .dataframe thead th {\n",
              "        text-align: right;\n",
              "    }\n",
              "</style>\n",
              "<table border=\"1\" class=\"dataframe\">\n",
              "  <thead>\n",
              "    <tr style=\"text-align: right;\">\n",
              "      <th></th>\n",
              "      <th>Name</th>\n",
              "      <th>More Than 6 Goals</th>\n",
              "    </tr>\n",
              "  </thead>\n",
              "  <tbody>\n",
              "    <tr>\n",
              "      <th>0</th>\n",
              "      <td>Croatia</td>\n",
              "      <td>False</td>\n",
              "    </tr>\n",
              "    <tr>\n",
              "      <th>1</th>\n",
              "      <td>Czech Republic</td>\n",
              "      <td>False</td>\n",
              "    </tr>\n",
              "    <tr>\n",
              "      <th>2</th>\n",
              "      <td>Denmark</td>\n",
              "      <td>False</td>\n",
              "    </tr>\n",
              "    <tr>\n",
              "      <th>3</th>\n",
              "      <td>England</td>\n",
              "      <td>False</td>\n",
              "    </tr>\n",
              "    <tr>\n",
              "      <th>4</th>\n",
              "      <td>France</td>\n",
              "      <td>False</td>\n",
              "    </tr>\n",
              "    <tr>\n",
              "      <th>5</th>\n",
              "      <td>Germany</td>\n",
              "      <td>True</td>\n",
              "    </tr>\n",
              "    <tr>\n",
              "      <th>6</th>\n",
              "      <td>Greece</td>\n",
              "      <td>False</td>\n",
              "    </tr>\n",
              "    <tr>\n",
              "      <th>7</th>\n",
              "      <td>Italy</td>\n",
              "      <td>True</td>\n",
              "    </tr>\n",
              "    <tr>\n",
              "      <th>8</th>\n",
              "      <td>Netherlands</td>\n",
              "      <td>False</td>\n",
              "    </tr>\n",
              "    <tr>\n",
              "      <th>9</th>\n",
              "      <td>Poland</td>\n",
              "      <td>False</td>\n",
              "    </tr>\n",
              "    <tr>\n",
              "      <th>10</th>\n",
              "      <td>Portugal</td>\n",
              "      <td>True</td>\n",
              "    </tr>\n",
              "    <tr>\n",
              "      <th>11</th>\n",
              "      <td>Republic of Ireland</td>\n",
              "      <td>False</td>\n",
              "    </tr>\n",
              "    <tr>\n",
              "      <th>12</th>\n",
              "      <td>Russia</td>\n",
              "      <td>False</td>\n",
              "    </tr>\n",
              "    <tr>\n",
              "      <th>13</th>\n",
              "      <td>Spain</td>\n",
              "      <td>True</td>\n",
              "    </tr>\n",
              "    <tr>\n",
              "      <th>14</th>\n",
              "      <td>Sweden</td>\n",
              "      <td>False</td>\n",
              "    </tr>\n",
              "    <tr>\n",
              "      <th>15</th>\n",
              "      <td>Ukraine</td>\n",
              "      <td>False</td>\n",
              "    </tr>\n",
              "  </tbody>\n",
              "</table>\n",
              "</div>"
            ],
            "text/plain": [
              "                   Name  More Than 6 Goals\n",
              "0               Croatia              False\n",
              "1        Czech Republic              False\n",
              "2               Denmark              False\n",
              "3               England              False\n",
              "4                France              False\n",
              "5               Germany               True\n",
              "6                Greece              False\n",
              "7                 Italy               True\n",
              "8           Netherlands              False\n",
              "9                Poland              False\n",
              "10             Portugal               True\n",
              "11  Republic of Ireland              False\n",
              "12               Russia              False\n",
              "13                Spain               True\n",
              "14               Sweden              False\n",
              "15              Ukraine              False"
            ]
          },
          "metadata": {
            "tags": []
          },
          "execution_count": 62
        }
      ]
    },
    {
      "cell_type": "markdown",
      "metadata": {
        "id": "PrfPXPgbGSO8"
      },
      "source": [
        "Show a DataFrame of teams that start with letter C\n",
        "\n",
        "Hint: `str.startswith()`"
      ]
    },
    {
      "cell_type": "code",
      "metadata": {
        "id": "Y23OnIZsF6-k",
        "colab": {
          "base_uri": "https://localhost:8080/",
          "height": 521
        },
        "outputId": "a7e62dd3-8fbf-43c2-c638-24a7b471cfbc"
      },
      "source": [
        "start_with_c = pd.DataFrame({\n",
        "    \"Name\" : euro[\"Team\"],\n",
        "    \"Start With letter C\" : euro[\"Team\"].str.startswith(\"C\")\n",
        "})\n",
        "start_with_c"
      ],
      "execution_count": 63,
      "outputs": [
        {
          "output_type": "execute_result",
          "data": {
            "text/html": [
              "<div>\n",
              "<style scoped>\n",
              "    .dataframe tbody tr th:only-of-type {\n",
              "        vertical-align: middle;\n",
              "    }\n",
              "\n",
              "    .dataframe tbody tr th {\n",
              "        vertical-align: top;\n",
              "    }\n",
              "\n",
              "    .dataframe thead th {\n",
              "        text-align: right;\n",
              "    }\n",
              "</style>\n",
              "<table border=\"1\" class=\"dataframe\">\n",
              "  <thead>\n",
              "    <tr style=\"text-align: right;\">\n",
              "      <th></th>\n",
              "      <th>Name</th>\n",
              "      <th>Start With letter C</th>\n",
              "    </tr>\n",
              "  </thead>\n",
              "  <tbody>\n",
              "    <tr>\n",
              "      <th>0</th>\n",
              "      <td>Croatia</td>\n",
              "      <td>True</td>\n",
              "    </tr>\n",
              "    <tr>\n",
              "      <th>1</th>\n",
              "      <td>Czech Republic</td>\n",
              "      <td>True</td>\n",
              "    </tr>\n",
              "    <tr>\n",
              "      <th>2</th>\n",
              "      <td>Denmark</td>\n",
              "      <td>False</td>\n",
              "    </tr>\n",
              "    <tr>\n",
              "      <th>3</th>\n",
              "      <td>England</td>\n",
              "      <td>False</td>\n",
              "    </tr>\n",
              "    <tr>\n",
              "      <th>4</th>\n",
              "      <td>France</td>\n",
              "      <td>False</td>\n",
              "    </tr>\n",
              "    <tr>\n",
              "      <th>5</th>\n",
              "      <td>Germany</td>\n",
              "      <td>False</td>\n",
              "    </tr>\n",
              "    <tr>\n",
              "      <th>6</th>\n",
              "      <td>Greece</td>\n",
              "      <td>False</td>\n",
              "    </tr>\n",
              "    <tr>\n",
              "      <th>7</th>\n",
              "      <td>Italy</td>\n",
              "      <td>False</td>\n",
              "    </tr>\n",
              "    <tr>\n",
              "      <th>8</th>\n",
              "      <td>Netherlands</td>\n",
              "      <td>False</td>\n",
              "    </tr>\n",
              "    <tr>\n",
              "      <th>9</th>\n",
              "      <td>Poland</td>\n",
              "      <td>False</td>\n",
              "    </tr>\n",
              "    <tr>\n",
              "      <th>10</th>\n",
              "      <td>Portugal</td>\n",
              "      <td>False</td>\n",
              "    </tr>\n",
              "    <tr>\n",
              "      <th>11</th>\n",
              "      <td>Republic of Ireland</td>\n",
              "      <td>False</td>\n",
              "    </tr>\n",
              "    <tr>\n",
              "      <th>12</th>\n",
              "      <td>Russia</td>\n",
              "      <td>False</td>\n",
              "    </tr>\n",
              "    <tr>\n",
              "      <th>13</th>\n",
              "      <td>Spain</td>\n",
              "      <td>False</td>\n",
              "    </tr>\n",
              "    <tr>\n",
              "      <th>14</th>\n",
              "      <td>Sweden</td>\n",
              "      <td>False</td>\n",
              "    </tr>\n",
              "    <tr>\n",
              "      <th>15</th>\n",
              "      <td>Ukraine</td>\n",
              "      <td>False</td>\n",
              "    </tr>\n",
              "  </tbody>\n",
              "</table>\n",
              "</div>"
            ],
            "text/plain": [
              "                   Name  Start With letter C\n",
              "0               Croatia                 True\n",
              "1        Czech Republic                 True\n",
              "2               Denmark                False\n",
              "3               England                False\n",
              "4                France                False\n",
              "5               Germany                False\n",
              "6                Greece                False\n",
              "7                 Italy                False\n",
              "8           Netherlands                False\n",
              "9                Poland                False\n",
              "10             Portugal                False\n",
              "11  Republic of Ireland                False\n",
              "12               Russia                False\n",
              "13                Spain                False\n",
              "14               Sweden                False\n",
              "15              Ukraine                False"
            ]
          },
          "metadata": {
            "tags": []
          },
          "execution_count": 63
        }
      ]
    },
    {
      "cell_type": "markdown",
      "metadata": {
        "id": "QUi-S2BDF7V8"
      },
      "source": [
        "Show the first 6 columns of the original DataFrame\n",
        "\n",
        "Hint: `.iloc()`"
      ]
    },
    {
      "cell_type": "code",
      "metadata": {
        "id": "-HlHkA9KGaDH",
        "colab": {
          "base_uri": "https://localhost:8080/",
          "height": 571
        },
        "outputId": "a6931361-a12b-4e4d-b0a6-ba169163b3b9"
      },
      "source": [
        "euro.iloc[:,:6]"
      ],
      "execution_count": 67,
      "outputs": [
        {
          "output_type": "execute_result",
          "data": {
            "text/html": [
              "<div>\n",
              "<style scoped>\n",
              "    .dataframe tbody tr th:only-of-type {\n",
              "        vertical-align: middle;\n",
              "    }\n",
              "\n",
              "    .dataframe tbody tr th {\n",
              "        vertical-align: top;\n",
              "    }\n",
              "\n",
              "    .dataframe thead th {\n",
              "        text-align: right;\n",
              "    }\n",
              "</style>\n",
              "<table border=\"1\" class=\"dataframe\">\n",
              "  <thead>\n",
              "    <tr style=\"text-align: right;\">\n",
              "      <th></th>\n",
              "      <th>Team</th>\n",
              "      <th>Goals</th>\n",
              "      <th>Shots on target</th>\n",
              "      <th>Shots off target</th>\n",
              "      <th>Shooting Accuracy</th>\n",
              "      <th>% Goals-to-shots</th>\n",
              "    </tr>\n",
              "  </thead>\n",
              "  <tbody>\n",
              "    <tr>\n",
              "      <th>0</th>\n",
              "      <td>Croatia</td>\n",
              "      <td>4</td>\n",
              "      <td>13</td>\n",
              "      <td>12</td>\n",
              "      <td>51.9%</td>\n",
              "      <td>16.0%</td>\n",
              "    </tr>\n",
              "    <tr>\n",
              "      <th>1</th>\n",
              "      <td>Czech Republic</td>\n",
              "      <td>4</td>\n",
              "      <td>13</td>\n",
              "      <td>18</td>\n",
              "      <td>41.9%</td>\n",
              "      <td>12.9%</td>\n",
              "    </tr>\n",
              "    <tr>\n",
              "      <th>2</th>\n",
              "      <td>Denmark</td>\n",
              "      <td>4</td>\n",
              "      <td>10</td>\n",
              "      <td>10</td>\n",
              "      <td>50.0%</td>\n",
              "      <td>20.0%</td>\n",
              "    </tr>\n",
              "    <tr>\n",
              "      <th>3</th>\n",
              "      <td>England</td>\n",
              "      <td>5</td>\n",
              "      <td>11</td>\n",
              "      <td>18</td>\n",
              "      <td>50.0%</td>\n",
              "      <td>17.2%</td>\n",
              "    </tr>\n",
              "    <tr>\n",
              "      <th>4</th>\n",
              "      <td>France</td>\n",
              "      <td>3</td>\n",
              "      <td>22</td>\n",
              "      <td>24</td>\n",
              "      <td>37.9%</td>\n",
              "      <td>6.5%</td>\n",
              "    </tr>\n",
              "    <tr>\n",
              "      <th>5</th>\n",
              "      <td>Germany</td>\n",
              "      <td>10</td>\n",
              "      <td>32</td>\n",
              "      <td>32</td>\n",
              "      <td>47.8%</td>\n",
              "      <td>15.6%</td>\n",
              "    </tr>\n",
              "    <tr>\n",
              "      <th>6</th>\n",
              "      <td>Greece</td>\n",
              "      <td>5</td>\n",
              "      <td>8</td>\n",
              "      <td>18</td>\n",
              "      <td>30.7%</td>\n",
              "      <td>19.2%</td>\n",
              "    </tr>\n",
              "    <tr>\n",
              "      <th>7</th>\n",
              "      <td>Italy</td>\n",
              "      <td>6</td>\n",
              "      <td>34</td>\n",
              "      <td>45</td>\n",
              "      <td>43.0%</td>\n",
              "      <td>7.5%</td>\n",
              "    </tr>\n",
              "    <tr>\n",
              "      <th>8</th>\n",
              "      <td>Netherlands</td>\n",
              "      <td>2</td>\n",
              "      <td>12</td>\n",
              "      <td>36</td>\n",
              "      <td>25.0%</td>\n",
              "      <td>4.1%</td>\n",
              "    </tr>\n",
              "    <tr>\n",
              "      <th>9</th>\n",
              "      <td>Poland</td>\n",
              "      <td>2</td>\n",
              "      <td>15</td>\n",
              "      <td>23</td>\n",
              "      <td>39.4%</td>\n",
              "      <td>5.2%</td>\n",
              "    </tr>\n",
              "    <tr>\n",
              "      <th>10</th>\n",
              "      <td>Portugal</td>\n",
              "      <td>6</td>\n",
              "      <td>22</td>\n",
              "      <td>42</td>\n",
              "      <td>34.3%</td>\n",
              "      <td>9.3%</td>\n",
              "    </tr>\n",
              "    <tr>\n",
              "      <th>11</th>\n",
              "      <td>Republic of Ireland</td>\n",
              "      <td>1</td>\n",
              "      <td>7</td>\n",
              "      <td>12</td>\n",
              "      <td>36.8%</td>\n",
              "      <td>5.2%</td>\n",
              "    </tr>\n",
              "    <tr>\n",
              "      <th>12</th>\n",
              "      <td>Russia</td>\n",
              "      <td>5</td>\n",
              "      <td>9</td>\n",
              "      <td>31</td>\n",
              "      <td>22.5%</td>\n",
              "      <td>12.5%</td>\n",
              "    </tr>\n",
              "    <tr>\n",
              "      <th>13</th>\n",
              "      <td>Spain</td>\n",
              "      <td>12</td>\n",
              "      <td>42</td>\n",
              "      <td>33</td>\n",
              "      <td>55.9%</td>\n",
              "      <td>16.0%</td>\n",
              "    </tr>\n",
              "    <tr>\n",
              "      <th>14</th>\n",
              "      <td>Sweden</td>\n",
              "      <td>5</td>\n",
              "      <td>17</td>\n",
              "      <td>19</td>\n",
              "      <td>47.2%</td>\n",
              "      <td>13.8%</td>\n",
              "    </tr>\n",
              "    <tr>\n",
              "      <th>15</th>\n",
              "      <td>Ukraine</td>\n",
              "      <td>2</td>\n",
              "      <td>7</td>\n",
              "      <td>26</td>\n",
              "      <td>21.2%</td>\n",
              "      <td>6.0%</td>\n",
              "    </tr>\n",
              "  </tbody>\n",
              "</table>\n",
              "</div>"
            ],
            "text/plain": [
              "                   Team  Goals  ...  Shooting Accuracy  % Goals-to-shots\n",
              "0               Croatia      4  ...              51.9%             16.0%\n",
              "1        Czech Republic      4  ...              41.9%             12.9%\n",
              "2               Denmark      4  ...              50.0%             20.0%\n",
              "3               England      5  ...              50.0%             17.2%\n",
              "4                France      3  ...              37.9%              6.5%\n",
              "5               Germany     10  ...              47.8%             15.6%\n",
              "6                Greece      5  ...              30.7%             19.2%\n",
              "7                 Italy      6  ...              43.0%              7.5%\n",
              "8           Netherlands      2  ...              25.0%              4.1%\n",
              "9                Poland      2  ...              39.4%              5.2%\n",
              "10             Portugal      6  ...              34.3%              9.3%\n",
              "11  Republic of Ireland      1  ...              36.8%              5.2%\n",
              "12               Russia      5  ...              22.5%             12.5%\n",
              "13                Spain     12  ...              55.9%             16.0%\n",
              "14               Sweden      5  ...              47.2%             13.8%\n",
              "15              Ukraine      2  ...              21.2%              6.0%\n",
              "\n",
              "[16 rows x 6 columns]"
            ]
          },
          "metadata": {
            "tags": []
          },
          "execution_count": 67
        }
      ]
    },
    {
      "cell_type": "markdown",
      "metadata": {
        "id": "RnO_uxntGaMW"
      },
      "source": [
        "Show a DataFrame containing Shooting Accuracy from Greece, Germany and Sweden\n",
        "\n",
        "Hint: slice the original DataFrame by labels using `.loc()`"
      ]
    },
    {
      "cell_type": "code",
      "metadata": {
        "id": "0sVl6RwFGsS3",
        "colab": {
          "base_uri": "https://localhost:8080/",
          "height": 136
        },
        "outputId": "b8b6f583-f541-4bf9-98b6-809eae132a01"
      },
      "source": [
        "team_data = euro[\"Team\"].isin([\"Greece\", \"Germany\", \"Sweden\"])\n",
        "shoot_acc = euro.loc[team_data, [\"Team\", \"Shooting Accuracy\"]]\n",
        "shoot_acc"
      ],
      "execution_count": 68,
      "outputs": [
        {
          "output_type": "execute_result",
          "data": {
            "text/html": [
              "<div>\n",
              "<style scoped>\n",
              "    .dataframe tbody tr th:only-of-type {\n",
              "        vertical-align: middle;\n",
              "    }\n",
              "\n",
              "    .dataframe tbody tr th {\n",
              "        vertical-align: top;\n",
              "    }\n",
              "\n",
              "    .dataframe thead th {\n",
              "        text-align: right;\n",
              "    }\n",
              "</style>\n",
              "<table border=\"1\" class=\"dataframe\">\n",
              "  <thead>\n",
              "    <tr style=\"text-align: right;\">\n",
              "      <th></th>\n",
              "      <th>Team</th>\n",
              "      <th>Shooting Accuracy</th>\n",
              "    </tr>\n",
              "  </thead>\n",
              "  <tbody>\n",
              "    <tr>\n",
              "      <th>5</th>\n",
              "      <td>Germany</td>\n",
              "      <td>47.8%</td>\n",
              "    </tr>\n",
              "    <tr>\n",
              "      <th>6</th>\n",
              "      <td>Greece</td>\n",
              "      <td>30.7%</td>\n",
              "    </tr>\n",
              "    <tr>\n",
              "      <th>14</th>\n",
              "      <td>Sweden</td>\n",
              "      <td>47.2%</td>\n",
              "    </tr>\n",
              "  </tbody>\n",
              "</table>\n",
              "</div>"
            ],
            "text/plain": [
              "       Team Shooting Accuracy\n",
              "5   Germany             47.8%\n",
              "6    Greece             30.7%\n",
              "14   Sweden             47.2%"
            ]
          },
          "metadata": {
            "tags": []
          },
          "execution_count": 68
        }
      ]
    },
    {
      "cell_type": "markdown",
      "metadata": {
        "id": "WDtq5IvG-lud"
      },
      "source": [
        "# Alcohol Consumption (5 points)\n",
        "\n"
      ]
    },
    {
      "cell_type": "markdown",
      "metadata": {
        "id": "1PNojX_F-wYg"
      },
      "source": [
        "Import dataset from `alcohol.csv`"
      ]
    },
    {
      "cell_type": "code",
      "metadata": {
        "id": "bAtdIEH1-3xN",
        "colab": {
          "base_uri": "https://localhost:8080/",
          "height": 422
        },
        "outputId": "8984c845-7b1a-47ea-f539-e1660b2f0892"
      },
      "source": [
        "alcohol = pd.read_csv('alcohol.csv')\n",
        "alcohol"
      ],
      "execution_count": 69,
      "outputs": [
        {
          "output_type": "execute_result",
          "data": {
            "text/html": [
              "<div>\n",
              "<style scoped>\n",
              "    .dataframe tbody tr th:only-of-type {\n",
              "        vertical-align: middle;\n",
              "    }\n",
              "\n",
              "    .dataframe tbody tr th {\n",
              "        vertical-align: top;\n",
              "    }\n",
              "\n",
              "    .dataframe thead th {\n",
              "        text-align: right;\n",
              "    }\n",
              "</style>\n",
              "<table border=\"1\" class=\"dataframe\">\n",
              "  <thead>\n",
              "    <tr style=\"text-align: right;\">\n",
              "      <th></th>\n",
              "      <th>country</th>\n",
              "      <th>beer_servings</th>\n",
              "      <th>spirit_servings</th>\n",
              "      <th>wine_servings</th>\n",
              "      <th>total_litres_of_pure_alcohol</th>\n",
              "      <th>continent</th>\n",
              "    </tr>\n",
              "  </thead>\n",
              "  <tbody>\n",
              "    <tr>\n",
              "      <th>0</th>\n",
              "      <td>Afghanistan</td>\n",
              "      <td>0</td>\n",
              "      <td>0</td>\n",
              "      <td>0</td>\n",
              "      <td>0.0</td>\n",
              "      <td>AS</td>\n",
              "    </tr>\n",
              "    <tr>\n",
              "      <th>1</th>\n",
              "      <td>Albania</td>\n",
              "      <td>89</td>\n",
              "      <td>132</td>\n",
              "      <td>54</td>\n",
              "      <td>4.9</td>\n",
              "      <td>EU</td>\n",
              "    </tr>\n",
              "    <tr>\n",
              "      <th>2</th>\n",
              "      <td>Algeria</td>\n",
              "      <td>25</td>\n",
              "      <td>0</td>\n",
              "      <td>14</td>\n",
              "      <td>0.7</td>\n",
              "      <td>AF</td>\n",
              "    </tr>\n",
              "    <tr>\n",
              "      <th>3</th>\n",
              "      <td>Andorra</td>\n",
              "      <td>245</td>\n",
              "      <td>138</td>\n",
              "      <td>312</td>\n",
              "      <td>12.4</td>\n",
              "      <td>EU</td>\n",
              "    </tr>\n",
              "    <tr>\n",
              "      <th>4</th>\n",
              "      <td>Angola</td>\n",
              "      <td>217</td>\n",
              "      <td>57</td>\n",
              "      <td>45</td>\n",
              "      <td>5.9</td>\n",
              "      <td>AF</td>\n",
              "    </tr>\n",
              "    <tr>\n",
              "      <th>...</th>\n",
              "      <td>...</td>\n",
              "      <td>...</td>\n",
              "      <td>...</td>\n",
              "      <td>...</td>\n",
              "      <td>...</td>\n",
              "      <td>...</td>\n",
              "    </tr>\n",
              "    <tr>\n",
              "      <th>188</th>\n",
              "      <td>Venezuela</td>\n",
              "      <td>333</td>\n",
              "      <td>100</td>\n",
              "      <td>3</td>\n",
              "      <td>7.7</td>\n",
              "      <td>SA</td>\n",
              "    </tr>\n",
              "    <tr>\n",
              "      <th>189</th>\n",
              "      <td>Vietnam</td>\n",
              "      <td>111</td>\n",
              "      <td>2</td>\n",
              "      <td>1</td>\n",
              "      <td>2.0</td>\n",
              "      <td>AS</td>\n",
              "    </tr>\n",
              "    <tr>\n",
              "      <th>190</th>\n",
              "      <td>Yemen</td>\n",
              "      <td>6</td>\n",
              "      <td>0</td>\n",
              "      <td>0</td>\n",
              "      <td>0.1</td>\n",
              "      <td>AS</td>\n",
              "    </tr>\n",
              "    <tr>\n",
              "      <th>191</th>\n",
              "      <td>Zambia</td>\n",
              "      <td>32</td>\n",
              "      <td>19</td>\n",
              "      <td>4</td>\n",
              "      <td>2.5</td>\n",
              "      <td>AF</td>\n",
              "    </tr>\n",
              "    <tr>\n",
              "      <th>192</th>\n",
              "      <td>Zimbabwe</td>\n",
              "      <td>64</td>\n",
              "      <td>18</td>\n",
              "      <td>4</td>\n",
              "      <td>4.7</td>\n",
              "      <td>AF</td>\n",
              "    </tr>\n",
              "  </tbody>\n",
              "</table>\n",
              "<p>193 rows × 6 columns</p>\n",
              "</div>"
            ],
            "text/plain": [
              "         country  beer_servings  ...  total_litres_of_pure_alcohol  continent\n",
              "0    Afghanistan              0  ...                           0.0         AS\n",
              "1        Albania             89  ...                           4.9         EU\n",
              "2        Algeria             25  ...                           0.7         AF\n",
              "3        Andorra            245  ...                          12.4         EU\n",
              "4         Angola            217  ...                           5.9         AF\n",
              "..           ...            ...  ...                           ...        ...\n",
              "188    Venezuela            333  ...                           7.7         SA\n",
              "189      Vietnam            111  ...                           2.0         AS\n",
              "190        Yemen              6  ...                           0.1         AS\n",
              "191       Zambia             32  ...                           2.5         AF\n",
              "192     Zimbabwe             64  ...                           4.7         AF\n",
              "\n",
              "[193 rows x 6 columns]"
            ]
          },
          "metadata": {
            "tags": []
          },
          "execution_count": 69
        }
      ]
    },
    {
      "cell_type": "markdown",
      "metadata": {
        "id": "sYqx1gaL-34h"
      },
      "source": [
        "Which continent drinks more beer on average? List average beer consumption per continent."
      ]
    },
    {
      "cell_type": "code",
      "metadata": {
        "id": "LYaOeSkE-63s",
        "colab": {
          "base_uri": "https://localhost:8080/"
        },
        "outputId": "703d66c8-c1f6-4809-ac1c-40fbbf42cc2f"
      },
      "source": [
        "beer_con = alcohol.groupby(\"continent\")[\"beer_servings\"]\n",
        "beer_con.mean()"
      ],
      "execution_count": 70,
      "outputs": [
        {
          "output_type": "execute_result",
          "data": {
            "text/plain": [
              "continent\n",
              "AF     61.471698\n",
              "AS     37.045455\n",
              "EU    193.777778\n",
              "OC     89.687500\n",
              "SA    175.083333\n",
              "Name: beer_servings, dtype: float64"
            ]
          },
          "metadata": {
            "tags": []
          },
          "execution_count": 70
        }
      ]
    },
    {
      "cell_type": "markdown",
      "metadata": {
        "id": "WF8JutMK-7Df"
      },
      "source": [
        "For each continent, `describe()` the statistics for wine consumption."
      ]
    },
    {
      "cell_type": "code",
      "metadata": {
        "id": "YYjq-bII-8ub",
        "colab": {
          "base_uri": "https://localhost:8080/"
        },
        "outputId": "2413ea07-3d53-41cc-b5b8-a0759912911c"
      },
      "source": [
        "alcohol[\"wine_servings\"].describe()"
      ],
      "execution_count": 71,
      "outputs": [
        {
          "output_type": "execute_result",
          "data": {
            "text/plain": [
              "count    193.000000\n",
              "mean      49.450777\n",
              "std       79.697598\n",
              "min        0.000000\n",
              "25%        1.000000\n",
              "50%        8.000000\n",
              "75%       59.000000\n",
              "max      370.000000\n",
              "Name: wine_servings, dtype: float64"
            ]
          },
          "metadata": {
            "tags": []
          },
          "execution_count": 71
        }
      ]
    },
    {
      "cell_type": "markdown",
      "metadata": {
        "id": "3nPHnTmE-81J"
      },
      "source": [
        "Show the mean alcohol consumption per continent for every alcohol type using the DataFrame layout below.\n",
        "\n",
        "![image.png](data:image/png;base64,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)"
      ]
    },
    {
      "cell_type": "code",
      "metadata": {
        "id": "-2xgFIBK-_g8",
        "colab": {
          "base_uri": "https://localhost:8080/",
          "height": 245
        },
        "outputId": "ca31f78d-c268-4db7-8522-3effe69141da"
      },
      "source": [
        "alcohol_mean = alcohol.groupby(\"continent\")\n",
        "alcohol_mean.mean()"
      ],
      "execution_count": 72,
      "outputs": [
        {
          "output_type": "execute_result",
          "data": {
            "text/html": [
              "<div>\n",
              "<style scoped>\n",
              "    .dataframe tbody tr th:only-of-type {\n",
              "        vertical-align: middle;\n",
              "    }\n",
              "\n",
              "    .dataframe tbody tr th {\n",
              "        vertical-align: top;\n",
              "    }\n",
              "\n",
              "    .dataframe thead th {\n",
              "        text-align: right;\n",
              "    }\n",
              "</style>\n",
              "<table border=\"1\" class=\"dataframe\">\n",
              "  <thead>\n",
              "    <tr style=\"text-align: right;\">\n",
              "      <th></th>\n",
              "      <th>beer_servings</th>\n",
              "      <th>spirit_servings</th>\n",
              "      <th>wine_servings</th>\n",
              "      <th>total_litres_of_pure_alcohol</th>\n",
              "    </tr>\n",
              "    <tr>\n",
              "      <th>continent</th>\n",
              "      <th></th>\n",
              "      <th></th>\n",
              "      <th></th>\n",
              "      <th></th>\n",
              "    </tr>\n",
              "  </thead>\n",
              "  <tbody>\n",
              "    <tr>\n",
              "      <th>AF</th>\n",
              "      <td>61.471698</td>\n",
              "      <td>16.339623</td>\n",
              "      <td>16.264151</td>\n",
              "      <td>3.007547</td>\n",
              "    </tr>\n",
              "    <tr>\n",
              "      <th>AS</th>\n",
              "      <td>37.045455</td>\n",
              "      <td>60.840909</td>\n",
              "      <td>9.068182</td>\n",
              "      <td>2.170455</td>\n",
              "    </tr>\n",
              "    <tr>\n",
              "      <th>EU</th>\n",
              "      <td>193.777778</td>\n",
              "      <td>132.555556</td>\n",
              "      <td>142.222222</td>\n",
              "      <td>8.617778</td>\n",
              "    </tr>\n",
              "    <tr>\n",
              "      <th>OC</th>\n",
              "      <td>89.687500</td>\n",
              "      <td>58.437500</td>\n",
              "      <td>35.625000</td>\n",
              "      <td>3.381250</td>\n",
              "    </tr>\n",
              "    <tr>\n",
              "      <th>SA</th>\n",
              "      <td>175.083333</td>\n",
              "      <td>114.750000</td>\n",
              "      <td>62.416667</td>\n",
              "      <td>6.308333</td>\n",
              "    </tr>\n",
              "  </tbody>\n",
              "</table>\n",
              "</div>"
            ],
            "text/plain": [
              "           beer_servings  ...  total_litres_of_pure_alcohol\n",
              "continent                 ...                              \n",
              "AF             61.471698  ...                      3.007547\n",
              "AS             37.045455  ...                      2.170455\n",
              "EU            193.777778  ...                      8.617778\n",
              "OC             89.687500  ...                      3.381250\n",
              "SA            175.083333  ...                      6.308333\n",
              "\n",
              "[5 rows x 4 columns]"
            ]
          },
          "metadata": {
            "tags": []
          },
          "execution_count": 72
        }
      ]
    },
    {
      "cell_type": "markdown",
      "metadata": {
        "id": "0IIfgoyIAP2L"
      },
      "source": [
        "Show the mean, min and max values for spirit consumption using the DataFrame layout below.\n",
        "\n",
        "![image.png](data:image/png;base64,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)"
      ]
    },
    {
      "cell_type": "code",
      "metadata": {
        "id": "1KtO3o4aAps7",
        "colab": {
          "base_uri": "https://localhost:8080/",
          "height": 225
        },
        "outputId": "e6b7c9c4-8f15-47b7-c283-8540213b6529"
      },
      "source": [
        "alcohol_operation = alcohol.groupby(\"continent\")[\"spirit_servings\"]\n",
        "alcohol_operation.agg([\"mean\", \"min\", \"max\"])"
      ],
      "execution_count": 73,
      "outputs": [
        {
          "output_type": "execute_result",
          "data": {
            "text/html": [
              "<div>\n",
              "<style scoped>\n",
              "    .dataframe tbody tr th:only-of-type {\n",
              "        vertical-align: middle;\n",
              "    }\n",
              "\n",
              "    .dataframe tbody tr th {\n",
              "        vertical-align: top;\n",
              "    }\n",
              "\n",
              "    .dataframe thead th {\n",
              "        text-align: right;\n",
              "    }\n",
              "</style>\n",
              "<table border=\"1\" class=\"dataframe\">\n",
              "  <thead>\n",
              "    <tr style=\"text-align: right;\">\n",
              "      <th></th>\n",
              "      <th>mean</th>\n",
              "      <th>min</th>\n",
              "      <th>max</th>\n",
              "    </tr>\n",
              "    <tr>\n",
              "      <th>continent</th>\n",
              "      <th></th>\n",
              "      <th></th>\n",
              "      <th></th>\n",
              "    </tr>\n",
              "  </thead>\n",
              "  <tbody>\n",
              "    <tr>\n",
              "      <th>AF</th>\n",
              "      <td>16.339623</td>\n",
              "      <td>0</td>\n",
              "      <td>152</td>\n",
              "    </tr>\n",
              "    <tr>\n",
              "      <th>AS</th>\n",
              "      <td>60.840909</td>\n",
              "      <td>0</td>\n",
              "      <td>326</td>\n",
              "    </tr>\n",
              "    <tr>\n",
              "      <th>EU</th>\n",
              "      <td>132.555556</td>\n",
              "      <td>0</td>\n",
              "      <td>373</td>\n",
              "    </tr>\n",
              "    <tr>\n",
              "      <th>OC</th>\n",
              "      <td>58.437500</td>\n",
              "      <td>0</td>\n",
              "      <td>254</td>\n",
              "    </tr>\n",
              "    <tr>\n",
              "      <th>SA</th>\n",
              "      <td>114.750000</td>\n",
              "      <td>25</td>\n",
              "      <td>302</td>\n",
              "    </tr>\n",
              "  </tbody>\n",
              "</table>\n",
              "</div>"
            ],
            "text/plain": [
              "                 mean  min  max\n",
              "continent                      \n",
              "AF          16.339623    0  152\n",
              "AS          60.840909    0  326\n",
              "EU         132.555556    0  373\n",
              "OC          58.437500    0  254\n",
              "SA         114.750000   25  302"
            ]
          },
          "metadata": {
            "tags": []
          },
          "execution_count": 73
        }
      ]
    },
    {
      "cell_type": "markdown",
      "metadata": {
        "id": "SLf4d_M09Grp"
      },
      "source": [
        "# Titanic (5 points)"
      ]
    },
    {
      "cell_type": "markdown",
      "metadata": {
        "id": "kXz2dXmTXaA5"
      },
      "source": [
        "Import titanic passenger data\n",
        "\n",
        "Note: please upload `titanic2.csv` file using File Explorer tool on your left\n",
        "\n",
        "**This is different from `titanic.csv` from the previous lab.**\n",
        "\n",
        "![image.png](data:image/png;base64,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)"
      ]
    },
    {
      "cell_type": "code",
      "metadata": {
        "id": "FcsD7wNC9LnT",
        "colab": {
          "base_uri": "https://localhost:8080/",
          "height": 909
        },
        "outputId": "3bce1e2f-7a61-444a-c328-693dbe7b70e8"
      },
      "source": [
        "titanic = pd.read_csv('titanic2.csv')\n",
        "titanic"
      ],
      "execution_count": 74,
      "outputs": [
        {
          "output_type": "execute_result",
          "data": {
            "text/html": [
              "<div>\n",
              "<style scoped>\n",
              "    .dataframe tbody tr th:only-of-type {\n",
              "        vertical-align: middle;\n",
              "    }\n",
              "\n",
              "    .dataframe tbody tr th {\n",
              "        vertical-align: top;\n",
              "    }\n",
              "\n",
              "    .dataframe thead th {\n",
              "        text-align: right;\n",
              "    }\n",
              "</style>\n",
              "<table border=\"1\" class=\"dataframe\">\n",
              "  <thead>\n",
              "    <tr style=\"text-align: right;\">\n",
              "      <th></th>\n",
              "      <th>PassengerId</th>\n",
              "      <th>Survived</th>\n",
              "      <th>Pclass</th>\n",
              "      <th>Name</th>\n",
              "      <th>Sex</th>\n",
              "      <th>Age</th>\n",
              "      <th>SibSp</th>\n",
              "      <th>Parch</th>\n",
              "      <th>Ticket</th>\n",
              "      <th>Fare</th>\n",
              "      <th>Cabin</th>\n",
              "      <th>Embarked</th>\n",
              "    </tr>\n",
              "  </thead>\n",
              "  <tbody>\n",
              "    <tr>\n",
              "      <th>0</th>\n",
              "      <td>1</td>\n",
              "      <td>0</td>\n",
              "      <td>3</td>\n",
              "      <td>Braund, Mr. Owen Harris</td>\n",
              "      <td>male</td>\n",
              "      <td>22.0</td>\n",
              "      <td>1</td>\n",
              "      <td>0</td>\n",
              "      <td>A/5 21171</td>\n",
              "      <td>7.2500</td>\n",
              "      <td>NaN</td>\n",
              "      <td>S</td>\n",
              "    </tr>\n",
              "    <tr>\n",
              "      <th>1</th>\n",
              "      <td>2</td>\n",
              "      <td>1</td>\n",
              "      <td>1</td>\n",
              "      <td>Cumings, Mrs. John Bradley (Florence Briggs Th...</td>\n",
              "      <td>female</td>\n",
              "      <td>38.0</td>\n",
              "      <td>1</td>\n",
              "      <td>0</td>\n",
              "      <td>PC 17599</td>\n",
              "      <td>71.2833</td>\n",
              "      <td>C85</td>\n",
              "      <td>C</td>\n",
              "    </tr>\n",
              "    <tr>\n",
              "      <th>2</th>\n",
              "      <td>3</td>\n",
              "      <td>1</td>\n",
              "      <td>3</td>\n",
              "      <td>Heikkinen, Miss. Laina</td>\n",
              "      <td>female</td>\n",
              "      <td>26.0</td>\n",
              "      <td>0</td>\n",
              "      <td>0</td>\n",
              "      <td>STON/O2. 3101282</td>\n",
              "      <td>7.9250</td>\n",
              "      <td>NaN</td>\n",
              "      <td>S</td>\n",
              "    </tr>\n",
              "    <tr>\n",
              "      <th>3</th>\n",
              "      <td>4</td>\n",
              "      <td>1</td>\n",
              "      <td>1</td>\n",
              "      <td>Futrelle, Mrs. Jacques Heath (Lily May Peel)</td>\n",
              "      <td>female</td>\n",
              "      <td>35.0</td>\n",
              "      <td>1</td>\n",
              "      <td>0</td>\n",
              "      <td>113803</td>\n",
              "      <td>53.1000</td>\n",
              "      <td>C123</td>\n",
              "      <td>S</td>\n",
              "    </tr>\n",
              "    <tr>\n",
              "      <th>4</th>\n",
              "      <td>5</td>\n",
              "      <td>0</td>\n",
              "      <td>3</td>\n",
              "      <td>Allen, Mr. William Henry</td>\n",
              "      <td>male</td>\n",
              "      <td>35.0</td>\n",
              "      <td>0</td>\n",
              "      <td>0</td>\n",
              "      <td>373450</td>\n",
              "      <td>8.0500</td>\n",
              "      <td>NaN</td>\n",
              "      <td>S</td>\n",
              "    </tr>\n",
              "    <tr>\n",
              "      <th>...</th>\n",
              "      <td>...</td>\n",
              "      <td>...</td>\n",
              "      <td>...</td>\n",
              "      <td>...</td>\n",
              "      <td>...</td>\n",
              "      <td>...</td>\n",
              "      <td>...</td>\n",
              "      <td>...</td>\n",
              "      <td>...</td>\n",
              "      <td>...</td>\n",
              "      <td>...</td>\n",
              "      <td>...</td>\n",
              "    </tr>\n",
              "    <tr>\n",
              "      <th>886</th>\n",
              "      <td>887</td>\n",
              "      <td>0</td>\n",
              "      <td>2</td>\n",
              "      <td>Montvila, Rev. Juozas</td>\n",
              "      <td>male</td>\n",
              "      <td>27.0</td>\n",
              "      <td>0</td>\n",
              "      <td>0</td>\n",
              "      <td>211536</td>\n",
              "      <td>13.0000</td>\n",
              "      <td>NaN</td>\n",
              "      <td>S</td>\n",
              "    </tr>\n",
              "    <tr>\n",
              "      <th>887</th>\n",
              "      <td>888</td>\n",
              "      <td>1</td>\n",
              "      <td>1</td>\n",
              "      <td>Graham, Miss. Margaret Edith</td>\n",
              "      <td>female</td>\n",
              "      <td>19.0</td>\n",
              "      <td>0</td>\n",
              "      <td>0</td>\n",
              "      <td>112053</td>\n",
              "      <td>30.0000</td>\n",
              "      <td>B42</td>\n",
              "      <td>S</td>\n",
              "    </tr>\n",
              "    <tr>\n",
              "      <th>888</th>\n",
              "      <td>889</td>\n",
              "      <td>0</td>\n",
              "      <td>3</td>\n",
              "      <td>Johnston, Miss. Catherine Helen \"Carrie\"</td>\n",
              "      <td>female</td>\n",
              "      <td>NaN</td>\n",
              "      <td>1</td>\n",
              "      <td>2</td>\n",
              "      <td>W./C. 6607</td>\n",
              "      <td>23.4500</td>\n",
              "      <td>NaN</td>\n",
              "      <td>S</td>\n",
              "    </tr>\n",
              "    <tr>\n",
              "      <th>889</th>\n",
              "      <td>890</td>\n",
              "      <td>1</td>\n",
              "      <td>1</td>\n",
              "      <td>Behr, Mr. Karl Howell</td>\n",
              "      <td>male</td>\n",
              "      <td>26.0</td>\n",
              "      <td>0</td>\n",
              "      <td>0</td>\n",
              "      <td>111369</td>\n",
              "      <td>30.0000</td>\n",
              "      <td>C148</td>\n",
              "      <td>C</td>\n",
              "    </tr>\n",
              "    <tr>\n",
              "      <th>890</th>\n",
              "      <td>891</td>\n",
              "      <td>0</td>\n",
              "      <td>3</td>\n",
              "      <td>Dooley, Mr. Patrick</td>\n",
              "      <td>male</td>\n",
              "      <td>32.0</td>\n",
              "      <td>0</td>\n",
              "      <td>0</td>\n",
              "      <td>370376</td>\n",
              "      <td>7.7500</td>\n",
              "      <td>NaN</td>\n",
              "      <td>Q</td>\n",
              "    </tr>\n",
              "  </tbody>\n",
              "</table>\n",
              "<p>891 rows × 12 columns</p>\n",
              "</div>"
            ],
            "text/plain": [
              "     PassengerId  Survived  Pclass  ...     Fare Cabin  Embarked\n",
              "0              1         0       3  ...   7.2500   NaN         S\n",
              "1              2         1       1  ...  71.2833   C85         C\n",
              "2              3         1       3  ...   7.9250   NaN         S\n",
              "3              4         1       1  ...  53.1000  C123         S\n",
              "4              5         0       3  ...   8.0500   NaN         S\n",
              "..           ...       ...     ...  ...      ...   ...       ...\n",
              "886          887         0       2  ...  13.0000   NaN         S\n",
              "887          888         1       1  ...  30.0000   B42         S\n",
              "888          889         0       3  ...  23.4500   NaN         S\n",
              "889          890         1       1  ...  30.0000  C148         C\n",
              "890          891         0       3  ...   7.7500   NaN         Q\n",
              "\n",
              "[891 rows x 12 columns]"
            ]
          },
          "metadata": {
            "tags": []
          },
          "execution_count": 74
        }
      ]
    },
    {
      "cell_type": "markdown",
      "metadata": {
        "id": "H0yz4nJL9X4p"
      },
      "source": [
        "Set `PassengerId` as the index\n",
        "\n",
        "Hint: use `set_index()` method"
      ]
    },
    {
      "cell_type": "code",
      "metadata": {
        "id": "z9PZKrKO9Yq4",
        "colab": {
          "base_uri": "https://localhost:8080/",
          "height": 938
        },
        "outputId": "38ec22c8-64f4-4ea9-eb2f-7f0653c21d20"
      },
      "source": [
        "titanic.set_index(\"PassengerId\")"
      ],
      "execution_count": 75,
      "outputs": [
        {
          "output_type": "execute_result",
          "data": {
            "text/html": [
              "<div>\n",
              "<style scoped>\n",
              "    .dataframe tbody tr th:only-of-type {\n",
              "        vertical-align: middle;\n",
              "    }\n",
              "\n",
              "    .dataframe tbody tr th {\n",
              "        vertical-align: top;\n",
              "    }\n",
              "\n",
              "    .dataframe thead th {\n",
              "        text-align: right;\n",
              "    }\n",
              "</style>\n",
              "<table border=\"1\" class=\"dataframe\">\n",
              "  <thead>\n",
              "    <tr style=\"text-align: right;\">\n",
              "      <th></th>\n",
              "      <th>Survived</th>\n",
              "      <th>Pclass</th>\n",
              "      <th>Name</th>\n",
              "      <th>Sex</th>\n",
              "      <th>Age</th>\n",
              "      <th>SibSp</th>\n",
              "      <th>Parch</th>\n",
              "      <th>Ticket</th>\n",
              "      <th>Fare</th>\n",
              "      <th>Cabin</th>\n",
              "      <th>Embarked</th>\n",
              "    </tr>\n",
              "    <tr>\n",
              "      <th>PassengerId</th>\n",
              "      <th></th>\n",
              "      <th></th>\n",
              "      <th></th>\n",
              "      <th></th>\n",
              "      <th></th>\n",
              "      <th></th>\n",
              "      <th></th>\n",
              "      <th></th>\n",
              "      <th></th>\n",
              "      <th></th>\n",
              "      <th></th>\n",
              "    </tr>\n",
              "  </thead>\n",
              "  <tbody>\n",
              "    <tr>\n",
              "      <th>1</th>\n",
              "      <td>0</td>\n",
              "      <td>3</td>\n",
              "      <td>Braund, Mr. Owen Harris</td>\n",
              "      <td>male</td>\n",
              "      <td>22.0</td>\n",
              "      <td>1</td>\n",
              "      <td>0</td>\n",
              "      <td>A/5 21171</td>\n",
              "      <td>7.2500</td>\n",
              "      <td>NaN</td>\n",
              "      <td>S</td>\n",
              "    </tr>\n",
              "    <tr>\n",
              "      <th>2</th>\n",
              "      <td>1</td>\n",
              "      <td>1</td>\n",
              "      <td>Cumings, Mrs. John Bradley (Florence Briggs Th...</td>\n",
              "      <td>female</td>\n",
              "      <td>38.0</td>\n",
              "      <td>1</td>\n",
              "      <td>0</td>\n",
              "      <td>PC 17599</td>\n",
              "      <td>71.2833</td>\n",
              "      <td>C85</td>\n",
              "      <td>C</td>\n",
              "    </tr>\n",
              "    <tr>\n",
              "      <th>3</th>\n",
              "      <td>1</td>\n",
              "      <td>3</td>\n",
              "      <td>Heikkinen, Miss. Laina</td>\n",
              "      <td>female</td>\n",
              "      <td>26.0</td>\n",
              "      <td>0</td>\n",
              "      <td>0</td>\n",
              "      <td>STON/O2. 3101282</td>\n",
              "      <td>7.9250</td>\n",
              "      <td>NaN</td>\n",
              "      <td>S</td>\n",
              "    </tr>\n",
              "    <tr>\n",
              "      <th>4</th>\n",
              "      <td>1</td>\n",
              "      <td>1</td>\n",
              "      <td>Futrelle, Mrs. Jacques Heath (Lily May Peel)</td>\n",
              "      <td>female</td>\n",
              "      <td>35.0</td>\n",
              "      <td>1</td>\n",
              "      <td>0</td>\n",
              "      <td>113803</td>\n",
              "      <td>53.1000</td>\n",
              "      <td>C123</td>\n",
              "      <td>S</td>\n",
              "    </tr>\n",
              "    <tr>\n",
              "      <th>5</th>\n",
              "      <td>0</td>\n",
              "      <td>3</td>\n",
              "      <td>Allen, Mr. William Henry</td>\n",
              "      <td>male</td>\n",
              "      <td>35.0</td>\n",
              "      <td>0</td>\n",
              "      <td>0</td>\n",
              "      <td>373450</td>\n",
              "      <td>8.0500</td>\n",
              "      <td>NaN</td>\n",
              "      <td>S</td>\n",
              "    </tr>\n",
              "    <tr>\n",
              "      <th>...</th>\n",
              "      <td>...</td>\n",
              "      <td>...</td>\n",
              "      <td>...</td>\n",
              "      <td>...</td>\n",
              "      <td>...</td>\n",
              "      <td>...</td>\n",
              "      <td>...</td>\n",
              "      <td>...</td>\n",
              "      <td>...</td>\n",
              "      <td>...</td>\n",
              "      <td>...</td>\n",
              "    </tr>\n",
              "    <tr>\n",
              "      <th>887</th>\n",
              "      <td>0</td>\n",
              "      <td>2</td>\n",
              "      <td>Montvila, Rev. Juozas</td>\n",
              "      <td>male</td>\n",
              "      <td>27.0</td>\n",
              "      <td>0</td>\n",
              "      <td>0</td>\n",
              "      <td>211536</td>\n",
              "      <td>13.0000</td>\n",
              "      <td>NaN</td>\n",
              "      <td>S</td>\n",
              "    </tr>\n",
              "    <tr>\n",
              "      <th>888</th>\n",
              "      <td>1</td>\n",
              "      <td>1</td>\n",
              "      <td>Graham, Miss. Margaret Edith</td>\n",
              "      <td>female</td>\n",
              "      <td>19.0</td>\n",
              "      <td>0</td>\n",
              "      <td>0</td>\n",
              "      <td>112053</td>\n",
              "      <td>30.0000</td>\n",
              "      <td>B42</td>\n",
              "      <td>S</td>\n",
              "    </tr>\n",
              "    <tr>\n",
              "      <th>889</th>\n",
              "      <td>0</td>\n",
              "      <td>3</td>\n",
              "      <td>Johnston, Miss. Catherine Helen \"Carrie\"</td>\n",
              "      <td>female</td>\n",
              "      <td>NaN</td>\n",
              "      <td>1</td>\n",
              "      <td>2</td>\n",
              "      <td>W./C. 6607</td>\n",
              "      <td>23.4500</td>\n",
              "      <td>NaN</td>\n",
              "      <td>S</td>\n",
              "    </tr>\n",
              "    <tr>\n",
              "      <th>890</th>\n",
              "      <td>1</td>\n",
              "      <td>1</td>\n",
              "      <td>Behr, Mr. Karl Howell</td>\n",
              "      <td>male</td>\n",
              "      <td>26.0</td>\n",
              "      <td>0</td>\n",
              "      <td>0</td>\n",
              "      <td>111369</td>\n",
              "      <td>30.0000</td>\n",
              "      <td>C148</td>\n",
              "      <td>C</td>\n",
              "    </tr>\n",
              "    <tr>\n",
              "      <th>891</th>\n",
              "      <td>0</td>\n",
              "      <td>3</td>\n",
              "      <td>Dooley, Mr. Patrick</td>\n",
              "      <td>male</td>\n",
              "      <td>32.0</td>\n",
              "      <td>0</td>\n",
              "      <td>0</td>\n",
              "      <td>370376</td>\n",
              "      <td>7.7500</td>\n",
              "      <td>NaN</td>\n",
              "      <td>Q</td>\n",
              "    </tr>\n",
              "  </tbody>\n",
              "</table>\n",
              "<p>891 rows × 11 columns</p>\n",
              "</div>"
            ],
            "text/plain": [
              "             Survived  Pclass  ... Cabin Embarked\n",
              "PassengerId                    ...               \n",
              "1                   0       3  ...   NaN        S\n",
              "2                   1       1  ...   C85        C\n",
              "3                   1       3  ...   NaN        S\n",
              "4                   1       1  ...  C123        S\n",
              "5                   0       3  ...   NaN        S\n",
              "...               ...     ...  ...   ...      ...\n",
              "887                 0       2  ...   NaN        S\n",
              "888                 1       1  ...   B42        S\n",
              "889                 0       3  ...   NaN        S\n",
              "890                 1       1  ...  C148        C\n",
              "891                 0       3  ...   NaN        Q\n",
              "\n",
              "[891 rows x 11 columns]"
            ]
          },
          "metadata": {
            "tags": []
          },
          "execution_count": 75
        }
      ]
    },
    {
      "cell_type": "markdown",
      "metadata": {
        "id": "g9ZYZMpr9bK0"
      },
      "source": [
        "Visualize a pie chart representing the gender proportion\n",
        "\n",
        "example: ![image.png](data:image/png;base64,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)"
      ]
    },
    {
      "cell_type": "code",
      "metadata": {
        "id": "_90MAyMy9bg-",
        "colab": {
          "base_uri": "https://localhost:8080/",
          "height": 248
        },
        "outputId": "4920f22e-e782-4eff-ca0f-ef19a2946c19"
      },
      "source": [
        "males = titanic[titanic[\"Sex\"] == \"male\"]\n",
        "females = titanic[titanic[\"Sex\"] == \"female\"]\n",
        "males_data = males.count()[\"Sex\"]\n",
        "females_data = females.count()[\"Sex\"]\n",
        "sex_data = pd.DataFrame({\n",
        "    'Sex' : [males_data, females_data]}, \n",
        "    index= [\"Male\", \"Female\"]\n",
        ")\n",
        "data_plot = sex_data.plot.pie(y = \"Sex\", autopct = \"%1.2f%%\")"
      ],
      "execution_count": 76,
      "outputs": [
        {
          "output_type": "display_data",
          "data": {
            "image/png": "[encoded data removed]",
            "text/plain": [
              "<Figure size 432x288 with 1 Axes>"
            ]
          },
          "metadata": {
            "tags": []
          }
        }
      ]
    },
    {
      "cell_type": "markdown",
      "metadata": {
        "id": "JqEV1Ydf9gtj"
      },
      "source": [
        "Visualize a scatter plot with the Fare and the Age, each dot colored by gender\n",
        "\n",
        "example: ![image.png](data:image/png;base64,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)"
      ]
    },
    {
      "cell_type": "code",
      "metadata": {
        "id": "7AKUtX809hKY",
        "colab": {
          "base_uri": "https://localhost:8080/",
          "height": 275
        },
        "outputId": "f2f3971d-13a5-4b51-ed5a-19785187db73"
      },
      "source": [
        "titanic2 = titanic.copy()\n",
        "titanic2.loc[(titanic[\"Sex\"] == 'male') , 'Sex'] = 0\n",
        "titanic2.loc[(titanic[\"Sex\"] == 'female') , 'Sex'] = 1\n",
        "titanic2.plot.scatter(x='Age' , y = 'Fare', xlabel = \"Age\", ylabel = \"Fare\", c =\"Sex\", colormap ='copper')"
      ],
      "execution_count": 77,
      "outputs": [
        {
          "output_type": "execute_result",
          "data": {
            "text/plain": [
              "<matplotlib.axes._subplots.AxesSubplot at 0x7f3710aac950>"
            ]
          },
          "metadata": {
            "tags": []
          },
          "execution_count": 77
        },
        {
          "output_type": "display_data",
          "data": {
            "image/png": "[encoded data removed]",
            "text/plain": [
              "<Figure size 432x288 with 2 Axes>"
            ]
          },
          "metadata": {
            "tags": [],
            "needs_background": "light"
          }
        }
      ]
    },
    {
      "cell_type": "markdown",
      "metadata": {
        "id": "cuDX6YgL9hRK"
      },
      "source": [
        "Visualize a histogram with the Fare\n",
        "\n",
        "example: ![image.png](data:image/png;base64,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)"
      ]
    },
    {
      "cell_type": "code",
      "metadata": {
        "id": "GAJZ3Tw49jqk",
        "colab": {
          "base_uri": "https://localhost:8080/",
          "height": 282
        },
        "outputId": "3023f53b-9d1d-43c4-ce99-10aa735b0724"
      },
      "source": [
        "titanic[\"Fare\"].hist()"
      ],
      "execution_count": 78,
      "outputs": [
        {
          "output_type": "execute_result",
          "data": {
            "text/plain": [
              "<matplotlib.axes._subplots.AxesSubplot at 0x7f3710573fd0>"
            ]
          },
          "metadata": {
            "tags": []
          },
          "execution_count": 78
        },
        {
          "output_type": "display_data",
          "data": {
            "image/png": "[encoded data removed]",
            "text/plain": [
              "<Figure size 432x288 with 1 Axes>"
            ]
          },
          "metadata": {
            "tags": [],
            "needs_background": "light"
          }
        }
      ]
    },
    {
      "cell_type": "markdown",
      "metadata": {
        "id": "WlecVQQ2H7Jm"
      },
      "source": [
        "Visualize a bar plot representing survival rates in percent grouped by the passenger class"
      ]
    },
    {
      "cell_type": "code",
      "metadata": {
        "id": "JlOZdC-NH7Qk",
        "colab": {
          "base_uri": "https://localhost:8080/",
          "height": 279
        },
        "outputId": "dc12373f-8a91-4363-fbe2-49982b30cc2f"
      },
      "source": [
        "survival_data = titanic.groupby(\"Survived\").Pclass.value_counts()\n",
        "plot_data = survival_data.plot.bar(x= 'lab',y = 'val', rot =0)"
      ],
      "execution_count": 79,
      "outputs": [
        {
          "output_type": "display_data",
          "data": {
            "image/png": "[encoded data removed]",
            "text/plain": [
              "<Figure size 432x288 with 1 Axes>"
            ]
          },
          "metadata": {
            "tags": [],
            "needs_background": "light"
          }
        }
      ]
    },
    {
      "cell_type": "markdown",
      "metadata": {
        "id": "YkWiTTJGC53V"
      },
      "source": [
        "# Apple Stock (10 points)"
      ]
    },
    {
      "cell_type": "markdown",
      "metadata": {
        "id": "Bbr1G-WzC99v"
      },
      "source": [
        "Import dataset from `apple_stock_1980_2014.csv`"
      ]
    },
    {
      "cell_type": "code",
      "metadata": {
        "id": "kSlQSITZC7kZ",
        "colab": {
          "base_uri": "https://localhost:8080/",
          "height": 402
        },
        "outputId": "d322ffd0-da89-4460-e1a4-dc5933ce184e"
      },
      "source": [
        "apple = pd.read_csv(\"apple_stock_1980_2014.csv\")\n",
        "apple"
      ],
      "execution_count": 80,
      "outputs": [
        {
          "output_type": "execute_result",
          "data": {
            "text/html": [
              "<div>\n",
              "<style scoped>\n",
              "    .dataframe tbody tr th:only-of-type {\n",
              "        vertical-align: middle;\n",
              "    }\n",
              "\n",
              "    .dataframe tbody tr th {\n",
              "        vertical-align: top;\n",
              "    }\n",
              "\n",
              "    .dataframe thead th {\n",
              "        text-align: right;\n",
              "    }\n",
              "</style>\n",
              "<table border=\"1\" class=\"dataframe\">\n",
              "  <thead>\n",
              "    <tr style=\"text-align: right;\">\n",
              "      <th></th>\n",
              "      <th>Date</th>\n",
              "      <th>Open</th>\n",
              "      <th>High</th>\n",
              "      <th>Low</th>\n",
              "      <th>Close</th>\n",
              "      <th>Volume</th>\n",
              "      <th>Adj Close</th>\n",
              "    </tr>\n",
              "  </thead>\n",
              "  <tbody>\n",
              "    <tr>\n",
              "      <th>0</th>\n",
              "      <td>2014-07-08</td>\n",
              "      <td>96.27</td>\n",
              "      <td>96.80</td>\n",
              "      <td>93.92</td>\n",
              "      <td>95.35</td>\n",
              "      <td>65130000</td>\n",
              "      <td>95.35</td>\n",
              "    </tr>\n",
              "    <tr>\n",
              "      <th>1</th>\n",
              "      <td>2014-07-07</td>\n",
              "      <td>94.14</td>\n",
              "      <td>95.99</td>\n",
              "      <td>94.10</td>\n",
              "      <td>95.97</td>\n",
              "      <td>56305400</td>\n",
              "      <td>95.97</td>\n",
              "    </tr>\n",
              "    <tr>\n",
              "      <th>2</th>\n",
              "      <td>2014-07-03</td>\n",
              "      <td>93.67</td>\n",
              "      <td>94.10</td>\n",
              "      <td>93.20</td>\n",
              "      <td>94.03</td>\n",
              "      <td>22891800</td>\n",
              "      <td>94.03</td>\n",
              "    </tr>\n",
              "    <tr>\n",
              "      <th>3</th>\n",
              "      <td>2014-07-02</td>\n",
              "      <td>93.87</td>\n",
              "      <td>94.06</td>\n",
              "      <td>93.09</td>\n",
              "      <td>93.48</td>\n",
              "      <td>28420900</td>\n",
              "      <td>93.48</td>\n",
              "    </tr>\n",
              "    <tr>\n",
              "      <th>4</th>\n",
              "      <td>2014-07-01</td>\n",
              "      <td>93.52</td>\n",
              "      <td>94.07</td>\n",
              "      <td>93.13</td>\n",
              "      <td>93.52</td>\n",
              "      <td>38170200</td>\n",
              "      <td>93.52</td>\n",
              "    </tr>\n",
              "    <tr>\n",
              "      <th>...</th>\n",
              "      <td>...</td>\n",
              "      <td>...</td>\n",
              "      <td>...</td>\n",
              "      <td>...</td>\n",
              "      <td>...</td>\n",
              "      <td>...</td>\n",
              "      <td>...</td>\n",
              "    </tr>\n",
              "    <tr>\n",
              "      <th>8460</th>\n",
              "      <td>1980-12-18</td>\n",
              "      <td>26.63</td>\n",
              "      <td>26.75</td>\n",
              "      <td>26.63</td>\n",
              "      <td>26.63</td>\n",
              "      <td>18362400</td>\n",
              "      <td>0.41</td>\n",
              "    </tr>\n",
              "    <tr>\n",
              "      <th>8461</th>\n",
              "      <td>1980-12-17</td>\n",
              "      <td>25.87</td>\n",
              "      <td>26.00</td>\n",
              "      <td>25.87</td>\n",
              "      <td>25.87</td>\n",
              "      <td>21610400</td>\n",
              "      <td>0.40</td>\n",
              "    </tr>\n",
              "    <tr>\n",
              "      <th>8462</th>\n",
              "      <td>1980-12-16</td>\n",
              "      <td>25.37</td>\n",
              "      <td>25.37</td>\n",
              "      <td>25.25</td>\n",
              "      <td>25.25</td>\n",
              "      <td>26432000</td>\n",
              "      <td>0.39</td>\n",
              "    </tr>\n",
              "    <tr>\n",
              "      <th>8463</th>\n",
              "      <td>1980-12-15</td>\n",
              "      <td>27.38</td>\n",
              "      <td>27.38</td>\n",
              "      <td>27.25</td>\n",
              "      <td>27.25</td>\n",
              "      <td>43971200</td>\n",
              "      <td>0.42</td>\n",
              "    </tr>\n",
              "    <tr>\n",
              "      <th>8464</th>\n",
              "      <td>1980-12-12</td>\n",
              "      <td>28.75</td>\n",
              "      <td>28.87</td>\n",
              "      <td>28.75</td>\n",
              "      <td>28.75</td>\n",
              "      <td>117258400</td>\n",
              "      <td>0.45</td>\n",
              "    </tr>\n",
              "  </tbody>\n",
              "</table>\n",
              "<p>8465 rows × 7 columns</p>\n",
              "</div>"
            ],
            "text/plain": [
              "            Date   Open   High    Low  Close     Volume  Adj Close\n",
              "0     2014-07-08  96.27  96.80  93.92  95.35   65130000      95.35\n",
              "1     2014-07-07  94.14  95.99  94.10  95.97   56305400      95.97\n",
              "2     2014-07-03  93.67  94.10  93.20  94.03   22891800      94.03\n",
              "3     2014-07-02  93.87  94.06  93.09  93.48   28420900      93.48\n",
              "4     2014-07-01  93.52  94.07  93.13  93.52   38170200      93.52\n",
              "...          ...    ...    ...    ...    ...        ...        ...\n",
              "8460  1980-12-18  26.63  26.75  26.63  26.63   18362400       0.41\n",
              "8461  1980-12-17  25.87  26.00  25.87  25.87   21610400       0.40\n",
              "8462  1980-12-16  25.37  25.37  25.25  25.25   26432000       0.39\n",
              "8463  1980-12-15  27.38  27.38  27.25  27.25   43971200       0.42\n",
              "8464  1980-12-12  28.75  28.87  28.75  28.75  117258400       0.45\n",
              "\n",
              "[8465 rows x 7 columns]"
            ]
          },
          "metadata": {
            "tags": []
          },
          "execution_count": 80
        }
      ]
    },
    {
      "cell_type": "markdown",
      "metadata": {
        "id": "nysyL-EiDBzn"
      },
      "source": [
        "Print the type of each data column"
      ]
    },
    {
      "cell_type": "code",
      "metadata": {
        "id": "LP1gD5qsC90f",
        "colab": {
          "base_uri": "https://localhost:8080/"
        },
        "outputId": "51d4f8d2-100f-4089-8f0b-f9af5457d1e1"
      },
      "source": [
        "apple.info()"
      ],
      "execution_count": 81,
      "outputs": [
        {
          "output_type": "stream",
          "text": [
            "<class 'pandas.core.frame.DataFrame'>\n",
            "RangeIndex: 8465 entries, 0 to 8464\n",
            "Data columns (total 7 columns):\n",
            " #   Column     Non-Null Count  Dtype  \n",
            "---  ------     --------------  -----  \n",
            " 0   Date       8465 non-null   object \n",
            " 1   Open       8465 non-null   float64\n",
            " 2   High       8465 non-null   float64\n",
            " 3   Low        8465 non-null   float64\n",
            " 4   Close      8465 non-null   float64\n",
            " 5   Volume     8465 non-null   int64  \n",
            " 6   Adj Close  8465 non-null   float64\n",
            "dtypes: float64(5), int64(1), object(1)\n",
            "memory usage: 463.1+ KB\n"
          ],
          "name": "stdout"
        }
      ]
    },
    {
      "cell_type": "markdown",
      "metadata": {
        "id": "2F5lO9xaDIJu"
      },
      "source": [
        "Convert the Date column to a datetime type"
      ]
    },
    {
      "cell_type": "code",
      "metadata": {
        "id": "hut-fPraDJvP",
        "colab": {
          "base_uri": "https://localhost:8080/"
        },
        "outputId": "0b34b243-6c61-4199-c6e6-cb70a62ea5e8"
      },
      "source": [
        "apple[\"Date\"] = pd.to_datetime(apple.Date, infer_datetime_format=True)\n",
        "apple.info()"
      ],
      "execution_count": 82,
      "outputs": [
        {
          "output_type": "stream",
          "text": [
            "<class 'pandas.core.frame.DataFrame'>\n",
            "RangeIndex: 8465 entries, 0 to 8464\n",
            "Data columns (total 7 columns):\n",
            " #   Column     Non-Null Count  Dtype         \n",
            "---  ------     --------------  -----         \n",
            " 0   Date       8465 non-null   datetime64[ns]\n",
            " 1   Open       8465 non-null   float64       \n",
            " 2   High       8465 non-null   float64       \n",
            " 3   Low        8465 non-null   float64       \n",
            " 4   Close      8465 non-null   float64       \n",
            " 5   Volume     8465 non-null   int64         \n",
            " 6   Adj Close  8465 non-null   float64       \n",
            "dtypes: datetime64[ns](1), float64(5), int64(1)\n",
            "memory usage: 463.1 KB\n"
          ],
          "name": "stdout"
        }
      ]
    },
    {
      "cell_type": "markdown",
      "metadata": {
        "id": "cCuiklBfDJ0f"
      },
      "source": [
        "Set the date as the index"
      ]
    },
    {
      "cell_type": "code",
      "metadata": {
        "id": "r-kW-IwgDLV6"
      },
      "source": [
        "apple.set_index(\"Date\", inplace= True)"
      ],
      "execution_count": 83,
      "outputs": []
    },
    {
      "cell_type": "markdown",
      "metadata": {
        "id": "DtpugBdPDLaa"
      },
      "source": [
        "Check if there is any duplicate dates"
      ]
    },
    {
      "cell_type": "code",
      "metadata": {
        "id": "J-XdXTtKDNaf",
        "colab": {
          "base_uri": "https://localhost:8080/"
        },
        "outputId": "7bceb5c4-3449-497e-abdb-80563f8bae55"
      },
      "source": [
        "apple_duplicate = apple.index.nunique()\n",
        "apple_duplicate"
      ],
      "execution_count": 84,
      "outputs": [
        {
          "output_type": "execute_result",
          "data": {
            "text/plain": [
              "8465"
            ]
          },
          "metadata": {
            "tags": []
          },
          "execution_count": 84
        }
      ]
    },
    {
      "cell_type": "markdown",
      "metadata": {
        "id": "IEqJOt44DQDw"
      },
      "source": [
        "Currently, the index is from the most recent date. Sort the entries so that the oldest date comes first."
      ]
    },
    {
      "cell_type": "code",
      "metadata": {
        "id": "LpjXR3eoDQPf"
      },
      "source": [
        "apple.sort_index(axis= \"index\", inplace= True)"
      ],
      "execution_count": 85,
      "outputs": []
    },
    {
      "cell_type": "markdown",
      "metadata": {
        "id": "v3nbxFHNDQZb"
      },
      "source": [
        "Find the last business day of each month using `resample('BM')`"
      ]
    },
    {
      "cell_type": "code",
      "metadata": {
        "id": "9qWVEZO0DSKb",
        "colab": {
          "base_uri": "https://localhost:8080/",
          "height": 431
        },
        "outputId": "41849071-41b9-41e9-bc5d-cadbf2491a85"
      },
      "source": [
        "last_business_day = apple.resample(\"BM\").last()\n",
        "last_business_day"
      ],
      "execution_count": 86,
      "outputs": [
        {
          "output_type": "execute_result",
          "data": {
            "text/html": [
              "<div>\n",
              "<style scoped>\n",
              "    .dataframe tbody tr th:only-of-type {\n",
              "        vertical-align: middle;\n",
              "    }\n",
              "\n",
              "    .dataframe tbody tr th {\n",
              "        vertical-align: top;\n",
              "    }\n",
              "\n",
              "    .dataframe thead th {\n",
              "        text-align: right;\n",
              "    }\n",
              "</style>\n",
              "<table border=\"1\" class=\"dataframe\">\n",
              "  <thead>\n",
              "    <tr style=\"text-align: right;\">\n",
              "      <th></th>\n",
              "      <th>Open</th>\n",
              "      <th>High</th>\n",
              "      <th>Low</th>\n",
              "      <th>Close</th>\n",
              "      <th>Volume</th>\n",
              "      <th>Adj Close</th>\n",
              "    </tr>\n",
              "    <tr>\n",
              "      <th>Date</th>\n",
              "      <th></th>\n",
              "      <th></th>\n",
              "      <th></th>\n",
              "      <th></th>\n",
              "      <th></th>\n",
              "      <th></th>\n",
              "    </tr>\n",
              "  </thead>\n",
              "  <tbody>\n",
              "    <tr>\n",
              "      <th>1980-12-31</th>\n",
              "      <td>34.25</td>\n",
              "      <td>34.25</td>\n",
              "      <td>34.13</td>\n",
              "      <td>34.13</td>\n",
              "      <td>8937600</td>\n",
              "      <td>0.53</td>\n",
              "    </tr>\n",
              "    <tr>\n",
              "      <th>1981-01-30</th>\n",
              "      <td>28.50</td>\n",
              "      <td>28.50</td>\n",
              "      <td>28.25</td>\n",
              "      <td>28.25</td>\n",
              "      <td>11547200</td>\n",
              "      <td>0.44</td>\n",
              "    </tr>\n",
              "    <tr>\n",
              "      <th>1981-02-27</th>\n",
              "      <td>26.50</td>\n",
              "      <td>26.75</td>\n",
              "      <td>26.50</td>\n",
              "      <td>26.50</td>\n",
              "      <td>3690400</td>\n",
              "      <td>0.41</td>\n",
              "    </tr>\n",
              "    <tr>\n",
              "      <th>1981-03-31</th>\n",
              "      <td>24.75</td>\n",
              "      <td>24.75</td>\n",
              "      <td>24.50</td>\n",
              "      <td>24.50</td>\n",
              "      <td>3998400</td>\n",
              "      <td>0.38</td>\n",
              "    </tr>\n",
              "    <tr>\n",
              "      <th>1981-04-30</th>\n",
              "      <td>28.38</td>\n",
              "      <td>28.62</td>\n",
              "      <td>28.38</td>\n",
              "      <td>28.38</td>\n",
              "      <td>3152800</td>\n",
              "      <td>0.44</td>\n",
              "    </tr>\n",
              "    <tr>\n",
              "      <th>...</th>\n",
              "      <td>...</td>\n",
              "      <td>...</td>\n",
              "      <td>...</td>\n",
              "      <td>...</td>\n",
              "      <td>...</td>\n",
              "      <td>...</td>\n",
              "    </tr>\n",
              "    <tr>\n",
              "      <th>2014-03-31</th>\n",
              "      <td>539.23</td>\n",
              "      <td>540.81</td>\n",
              "      <td>535.93</td>\n",
              "      <td>536.74</td>\n",
              "      <td>42167300</td>\n",
              "      <td>76.25</td>\n",
              "    </tr>\n",
              "    <tr>\n",
              "      <th>2014-04-30</th>\n",
              "      <td>592.64</td>\n",
              "      <td>599.43</td>\n",
              "      <td>589.80</td>\n",
              "      <td>590.09</td>\n",
              "      <td>114160200</td>\n",
              "      <td>83.83</td>\n",
              "    </tr>\n",
              "    <tr>\n",
              "      <th>2014-05-30</th>\n",
              "      <td>637.98</td>\n",
              "      <td>644.17</td>\n",
              "      <td>628.90</td>\n",
              "      <td>633.00</td>\n",
              "      <td>141005200</td>\n",
              "      <td>90.43</td>\n",
              "    </tr>\n",
              "    <tr>\n",
              "      <th>2014-06-30</th>\n",
              "      <td>92.10</td>\n",
              "      <td>93.73</td>\n",
              "      <td>92.09</td>\n",
              "      <td>92.93</td>\n",
              "      <td>49482300</td>\n",
              "      <td>92.93</td>\n",
              "    </tr>\n",
              "    <tr>\n",
              "      <th>2014-07-31</th>\n",
              "      <td>96.27</td>\n",
              "      <td>96.80</td>\n",
              "      <td>93.92</td>\n",
              "      <td>95.35</td>\n",
              "      <td>65130000</td>\n",
              "      <td>95.35</td>\n",
              "    </tr>\n",
              "  </tbody>\n",
              "</table>\n",
              "<p>404 rows × 6 columns</p>\n",
              "</div>"
            ],
            "text/plain": [
              "              Open    High     Low   Close     Volume  Adj Close\n",
              "Date                                                            \n",
              "1980-12-31   34.25   34.25   34.13   34.13    8937600       0.53\n",
              "1981-01-30   28.50   28.50   28.25   28.25   11547200       0.44\n",
              "1981-02-27   26.50   26.75   26.50   26.50    3690400       0.41\n",
              "1981-03-31   24.75   24.75   24.50   24.50    3998400       0.38\n",
              "1981-04-30   28.38   28.62   28.38   28.38    3152800       0.44\n",
              "...            ...     ...     ...     ...        ...        ...\n",
              "2014-03-31  539.23  540.81  535.93  536.74   42167300      76.25\n",
              "2014-04-30  592.64  599.43  589.80  590.09  114160200      83.83\n",
              "2014-05-30  637.98  644.17  628.90  633.00  141005200      90.43\n",
              "2014-06-30   92.10   93.73   92.09   92.93   49482300      92.93\n",
              "2014-07-31   96.27   96.80   93.92   95.35   65130000      95.35\n",
              "\n",
              "[404 rows x 6 columns]"
            ]
          },
          "metadata": {
            "tags": []
          },
          "execution_count": 86
        }
      ]
    },
    {
      "cell_type": "markdown",
      "metadata": {
        "id": "G9zikvaADUKS"
      },
      "source": [
        "Compute the difference in days between the first and the last day"
      ]
    },
    {
      "cell_type": "code",
      "metadata": {
        "id": "M_8rWg2lDUVj",
        "colab": {
          "base_uri": "https://localhost:8080/"
        },
        "outputId": "0ee56bd9-4aa3-4e5f-e7a8-68aea071101a"
      },
      "source": [
        "diff_in_day = apple.index[0] - apple.index[-1]\n",
        "diff_in_day"
      ],
      "execution_count": 87,
      "outputs": [
        {
          "output_type": "execute_result",
          "data": {
            "text/plain": [
              "Timedelta('-12261 days +00:00:00')"
            ]
          },
          "metadata": {
            "tags": []
          },
          "execution_count": 87
        }
      ]
    },
    {
      "cell_type": "markdown",
      "metadata": {
        "id": "zz--bNa_DUeX"
      },
      "source": [
        "Compute the number of months in the data we have"
      ]
    },
    {
      "cell_type": "code",
      "metadata": {
        "id": "fI9MnkioDWEn",
        "colab": {
          "base_uri": "https://localhost:8080/"
        },
        "outputId": "179814b6-8d2a-4819-a8ed-d8c5c83aeacb"
      },
      "source": [
        "last_business_day.shape[0]"
      ],
      "execution_count": 91,
      "outputs": [
        {
          "output_type": "execute_result",
          "data": {
            "text/plain": [
              "404"
            ]
          },
          "metadata": {
            "tags": []
          },
          "execution_count": 91
        }
      ]
    },
    {
      "cell_type": "markdown",
      "metadata": {
        "id": "DmwrjTVoDWJ0"
      },
      "source": [
        "Plot the 'Adj Close' value."
      ]
    },
    {
      "cell_type": "code",
      "metadata": {
        "id": "sELEHV13Datz",
        "colab": {
          "base_uri": "https://localhost:8080/",
          "height": 288
        },
        "outputId": "e0dd1dde-a48d-40da-9dca-c38c316bce04"
      },
      "source": [
        "adj_plot = apple['Adj Close'].plot()\n",
        "adj_plot"
      ],
      "execution_count": 89,
      "outputs": [
        {
          "output_type": "execute_result",
          "data": {
            "text/plain": [
              "<matplotlib.axes._subplots.AxesSubplot at 0x7f370ff02f10>"
            ]
          },
          "metadata": {
            "tags": []
          },
          "execution_count": 89
        },
        {
          "output_type": "display_data",
          "data": {
            "image/png": "[encoded data removed]",
            "text/plain": [
              "<Figure size 432x288 with 1 Axes>"
            ]
          },
          "metadata": {
            "tags": [],
            "needs_background": "light"
          }
        }
      ]
    }
  ]
}