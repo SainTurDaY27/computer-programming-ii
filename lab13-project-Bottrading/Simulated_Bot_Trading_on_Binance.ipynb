{
 "cells": [
  {
   "cell_type": "code",
   "execution_count": null,
   "metadata": {
    "id": "WH88rWSeQYS2"
   },
   "outputs": [],
   "source": [
    "!pip install websocket-client"
   ]
  },
  {
   "cell_type": "code",
   "execution_count": null,
   "metadata": {
    "id": "fq58V0ZfQsI6"
   },
   "outputs": [],
   "source": [
    "# from https://stackoverflow.com/questions/49648391/how-to-install-ta-lib-in-google-colab\n",
    "\n",
    "url = 'https://launchpad.net/~mario-mariomedina/+archive/ubuntu/talib/+files'\n",
    "!wget $url/libta-lib0_0.4.0-oneiric1_amd64.deb -qO libta.deb\n",
    "!wget $url/ta-lib0-dev_0.4.0-oneiric1_amd64.deb -qO ta.deb\n",
    "!dpkg -i libta.deb ta.deb\n",
    "!pip install ta-lib"
   ]
  },
  {
   "cell_type": "code",
   "execution_count": null,
   "metadata": {
    "id": "j7ZOosCmS3Dk"
   },
   "outputs": [],
   "source": [
    "!pip install python-binance"
   ]
  },
  {
   "cell_type": "code",
   "execution_count": null,
   "metadata": {
    "id": "e3H0neIQP24B"
   },
   "outputs": [],
   "source": [
    "import websocket, json, pprint, talib, numpy"
   ]
  },
  {
   "cell_type": "code",
   "execution_count": null,
   "metadata": {
    "id": "FIauYIbgQf23"
   },
   "outputs": [],
   "source": [
    "from binance.client import Client\n",
    "from binance.enums import *"
   ]
  },
  {
   "cell_type": "code",
   "execution_count": null,
   "metadata": {
    "id": "wpzw5_GlSkgV"
   },
   "outputs": [],
   "source": [
    "SOCKET = \"wss://stream.binance.com:9443/ws/ethusdt@kline_1m\""
   ]
  },
  {
   "cell_type": "code",
   "execution_count": null,
   "metadata": {
    "id": "UbSNd1bQU9El"
   },
   "outputs": [],
   "source": [
    "def on_open(ws):\n",
    "    print('opened connection')"
   ]
  },
  {
   "cell_type": "code",
   "execution_count": null,
   "metadata": {
    "id": "hb286N8pU_5h"
   },
   "outputs": [],
   "source": [
    "def on_close(ws):\n",
    "    print('closed connection')"
   ]
  },
  {
   "cell_type": "code",
   "execution_count": null,
   "metadata": {
    "id": "qRieG6MBVB6_"
   },
   "outputs": [],
   "source": [
    "def on_message(ws, message):\n",
    "    print('received message')\n",
    "    print(message)\n",
    "    #json_message = json.loads(message)\n",
    "    #pprint.pprint(json_message)"
   ]
  },
  {
   "cell_type": "code",
   "execution_count": null,
   "metadata": {
    "id": "JBW0s2nSV4jW"
   },
   "outputs": [],
   "source": [
    "ws = websocket.WebSocketApp(SOCKET, on_open=on_open, on_close=on_close, on_message=on_message)\n",
    "ws.run_forever()"
   ]
  },
  {
   "cell_type": "code",
   "execution_count": null,
   "metadata": {
    "id": "Gk2fCsvZYCPx"
   },
   "outputs": [],
   "source": [
    "RSI_PERIOD = 14\n",
    "RSI_OVERBOUGHT = 70\n",
    "RSI_OVERSOLD = 30\n",
    "TRADE_SYMBOL = 'ETHUSD'\n",
    "TRADE_QUANTITY = 0.05\n",
    "\n",
    "closes = []\n",
    "in_position = False\n",
    "\n",
    "def on_message(ws, message):\n",
    "    global closes, in_position\n",
    "    \n",
    "    #print('received message')\n",
    "    json_message = json.loads(message)\n",
    "    #pprint.pprint(json_message)\n",
    "\n",
    "    candle = json_message['k']\n",
    "\n",
    "    is_candle_closed = candle['x']\n",
    "    close = candle['c']\n",
    "\n",
    "    if is_candle_closed:\n",
    "        pprint.pprint(json_message)\n",
    "        print(\"candle closed at {}\".format(close))\n",
    "        closes.append(float(close))\n",
    "        print(\"closes\")\n",
    "        print(closes)"
   ]
  },
  {
   "cell_type": "code",
   "execution_count": null,
   "metadata": {
    "id": "JBW0s2nSV4jW"
   },
   "outputs": [],
   "source": [
    "ws = websocket.WebSocketApp(SOCKET, on_open=on_open, on_close=on_close, on_message=on_message)\n",
    "ws.run_forever()"
   ]
  },
  {
   "cell_type": "code",
   "execution_count": null,
   "metadata": {
    "id": "voGxi5vuMvLw"
   },
   "outputs": [],
   "source": [
    "RSI_PERIOD = 14\n",
    "RSI_OVERBOUGHT = 70\n",
    "RSI_OVERSOLD = 30\n",
    "TRADE_SYMBOL = 'ETHUSD'\n",
    "TRADE_QUANTITY = 0.05\n",
    "\n",
    "closes = []\n",
    "in_position = False\n",
    "\n",
    "def on_message(ws, message):\n",
    "    global closes, in_position\n",
    "    \n",
    "    #print('received message')\n",
    "    json_message = json.loads(message)\n",
    "    #pprint.pprint(json_message)\n",
    "\n",
    "    candle = json_message['k']\n",
    "\n",
    "    is_candle_closed = candle['x']\n",
    "    close = candle['c']\n",
    "\n",
    "    if is_candle_closed:\n",
    "        pprint.pprint(json_message)\n",
    "        print(\"candle closed at {}\".format(close))\n",
    "        closes.append(float(close))\n",
    "        print(\"closes\")\n",
    "        print(closes)\n",
    "\n",
    "        if len(closes) > RSI_PERIOD:\n",
    "            np_closes = numpy.array(closes)\n",
    "            rsi = talib.RSI(np_closes, RSI_PERIOD)\n",
    "            print(\"all rsis calculated so far\")\n",
    "            print(rsi)\n",
    "            last_rsi = rsi[-1]\n",
    "            print(\"the current rsi is {}\".format(last_rsi))\n",
    "\n",
    "            if last_rsi > RSI_OVERBOUGHT:\n",
    "                if in_position:\n",
    "                    print(\"Overbought! Sell! Sell! Sell!\")\n",
    "                    # put binance sell logic here\n",
    "                    if order_succeeded:\n",
    "                        in_position = False\n",
    "                else:\n",
    "                    print(\"It is overbought, but we don't own any. Nothing to do.\")\n",
    "            \n",
    "            if last_rsi < RSI_OVERSOLD:\n",
    "                if in_position:\n",
    "                    print(\"It is oversold, but you already own it, nothing to do.\")\n",
    "                else:\n",
    "                    print(\"Oversold! Buy! Buy! Buy!\")\n",
    "                    # put binance buy order logic here\n",
    "                    if order_succeeded:\n",
    "                        in_position = True"
   ]
  },
  {
   "cell_type": "code",
   "execution_count": null,
   "metadata": {
    "colab": {
     "base_uri": "https://localhost:8080/"
    },
    "id": "XLos98CdOWTG",
    "outputId": "49f55efd-da1b-42b2-ecb6-269720dfcd59"
   },
   "outputs": [],
   "source": [
    "ws = websocket.WebSocketApp(SOCKET, on_open=on_open, on_close=on_close, on_message=on_message)\n",
    "ws.run_forever()"
   ]
  }
 ],
 "metadata": {
  "colab": {
   "name": "Simulated Bot Trading on Binance.ipynb",
   "provenance": []
  },
  "kernelspec": {
   "display_name": "Python 3",
   "language": "python",
   "name": "python3"
  },
  "language_info": {
   "codemirror_mode": {
    "name": "ipython",
    "version": 3
   },
   "file_extension": ".py",
   "mimetype": "text/x-python",
   "name": "python",
   "nbconvert_exporter": "python",
   "pygments_lexer": "ipython3",
   "version": "3.8.5"
  }
 },
 "nbformat": 4,
 "nbformat_minor": 1
}
