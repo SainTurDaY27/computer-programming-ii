{
  "nbformat": 4,
  "nbformat_minor": 0,
  "metadata": {
    "colab": {
      "name": "Lab11_Pandas_Panuwat.ipynb",
      "provenance": [],
      "collapsed_sections": []
    },
    "kernelspec": {
      "name": "python3",
      "display_name": "Python 3"
    },
    "language_info": {
      "name": "python"
    }
  },
  "cells": [
    {
      "cell_type": "code",
      "metadata": {
        "id": "ntfg0sRYXXCO"
      },
      "source": [
        "import pandas as pd"
      ],
      "execution_count": 2,
      "outputs": []
    },
    {
      "cell_type": "markdown",
      "metadata": {
        "id": "kXz2dXmTXaA5"
      },
      "source": [
        "Import titanic passenger data\n",
        "\n",
        "Note: please upload `titanic.csv` file using File Explorer tool on your left\n",
        "\n",
        "![image.png](data:image/png;base64,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)"
      ]
    },
    {
      "cell_type": "code",
      "metadata": {
        "id": "JCzzt6W3XdjV",
        "colab": {
          "base_uri": "https://localhost:8080/",
          "height": 435
        },
        "outputId": "7222927f-2716-4f98-8159-aade1e131623"
      },
      "source": [
        "titanic = pd.read_csv('titanic.csv')\n",
        "titanic"
      ],
      "execution_count": 3,
      "outputs": [
        {
          "output_type": "execute_result",
          "data": {
            "text/html": [
              "<div>\n",
              "<style scoped>\n",
              "    .dataframe tbody tr th:only-of-type {\n",
              "        vertical-align: middle;\n",
              "    }\n",
              "\n",
              "    .dataframe tbody tr th {\n",
              "        vertical-align: top;\n",
              "    }\n",
              "\n",
              "    .dataframe thead th {\n",
              "        text-align: right;\n",
              "    }\n",
              "</style>\n",
              "<table border=\"1\" class=\"dataframe\">\n",
              "  <thead>\n",
              "    <tr style=\"text-align: right;\">\n",
              "      <th></th>\n",
              "      <th>PassengerId</th>\n",
              "      <th>Survived</th>\n",
              "      <th>Pclass</th>\n",
              "      <th>Name</th>\n",
              "      <th>Sex</th>\n",
              "      <th>Age</th>\n",
              "      <th>SibSp</th>\n",
              "      <th>Parch</th>\n",
              "      <th>Ticket</th>\n",
              "      <th>Fare</th>\n",
              "      <th>Cabin</th>\n",
              "      <th>Embarked</th>\n",
              "    </tr>\n",
              "  </thead>\n",
              "  <tbody>\n",
              "    <tr>\n",
              "      <th>0</th>\n",
              "      <td>1</td>\n",
              "      <td>0</td>\n",
              "      <td>3</td>\n",
              "      <td>Braund, Mr. Owen Harris</td>\n",
              "      <td>male</td>\n",
              "      <td>22.0</td>\n",
              "      <td>1</td>\n",
              "      <td>0</td>\n",
              "      <td>A/5 21171</td>\n",
              "      <td>7.2500</td>\n",
              "      <td>NaN</td>\n",
              "      <td>S</td>\n",
              "    </tr>\n",
              "    <tr>\n",
              "      <th>1</th>\n",
              "      <td>2</td>\n",
              "      <td>1</td>\n",
              "      <td>1</td>\n",
              "      <td>Cumings, Mrs. John Bradley (Florence Briggs Th...</td>\n",
              "      <td>female</td>\n",
              "      <td>38.0</td>\n",
              "      <td>1</td>\n",
              "      <td>0</td>\n",
              "      <td>PC 17599</td>\n",
              "      <td>71.2833</td>\n",
              "      <td>C85</td>\n",
              "      <td>C</td>\n",
              "    </tr>\n",
              "    <tr>\n",
              "      <th>2</th>\n",
              "      <td>3</td>\n",
              "      <td>1</td>\n",
              "      <td>3</td>\n",
              "      <td>Heikkinen, Miss. Laina</td>\n",
              "      <td>female</td>\n",
              "      <td>26.0</td>\n",
              "      <td>0</td>\n",
              "      <td>0</td>\n",
              "      <td>STON/O2. 3101282</td>\n",
              "      <td>7.9250</td>\n",
              "      <td>NaN</td>\n",
              "      <td>S</td>\n",
              "    </tr>\n",
              "    <tr>\n",
              "      <th>3</th>\n",
              "      <td>4</td>\n",
              "      <td>1</td>\n",
              "      <td>1</td>\n",
              "      <td>Futrelle, Mrs. Jacques Heath (Lily May Peel)</td>\n",
              "      <td>female</td>\n",
              "      <td>35.0</td>\n",
              "      <td>1</td>\n",
              "      <td>0</td>\n",
              "      <td>113803</td>\n",
              "      <td>53.1000</td>\n",
              "      <td>C123</td>\n",
              "      <td>S</td>\n",
              "    </tr>\n",
              "    <tr>\n",
              "      <th>4</th>\n",
              "      <td>5</td>\n",
              "      <td>0</td>\n",
              "      <td>3</td>\n",
              "      <td>Allen, Mr. William Henry</td>\n",
              "      <td>male</td>\n",
              "      <td>35.0</td>\n",
              "      <td>0</td>\n",
              "      <td>0</td>\n",
              "      <td>373450</td>\n",
              "      <td>8.0500</td>\n",
              "      <td>NaN</td>\n",
              "      <td>S</td>\n",
              "    </tr>\n",
              "    <tr>\n",
              "      <th>...</th>\n",
              "      <td>...</td>\n",
              "      <td>...</td>\n",
              "      <td>...</td>\n",
              "      <td>...</td>\n",
              "      <td>...</td>\n",
              "      <td>...</td>\n",
              "      <td>...</td>\n",
              "      <td>...</td>\n",
              "      <td>...</td>\n",
              "      <td>...</td>\n",
              "      <td>...</td>\n",
              "      <td>...</td>\n",
              "    </tr>\n",
              "    <tr>\n",
              "      <th>886</th>\n",
              "      <td>887</td>\n",
              "      <td>0</td>\n",
              "      <td>2</td>\n",
              "      <td>Montvila, Rev. Juozas</td>\n",
              "      <td>male</td>\n",
              "      <td>27.0</td>\n",
              "      <td>0</td>\n",
              "      <td>0</td>\n",
              "      <td>211536</td>\n",
              "      <td>13.0000</td>\n",
              "      <td>NaN</td>\n",
              "      <td>S</td>\n",
              "    </tr>\n",
              "    <tr>\n",
              "      <th>887</th>\n",
              "      <td>888</td>\n",
              "      <td>1</td>\n",
              "      <td>1</td>\n",
              "      <td>Graham, Miss. Margaret Edith</td>\n",
              "      <td>female</td>\n",
              "      <td>19.0</td>\n",
              "      <td>0</td>\n",
              "      <td>0</td>\n",
              "      <td>112053</td>\n",
              "      <td>30.0000</td>\n",
              "      <td>B42</td>\n",
              "      <td>S</td>\n",
              "    </tr>\n",
              "    <tr>\n",
              "      <th>888</th>\n",
              "      <td>889</td>\n",
              "      <td>0</td>\n",
              "      <td>3</td>\n",
              "      <td>Johnston, Miss. Catherine Helen \"Carrie\"</td>\n",
              "      <td>female</td>\n",
              "      <td>NaN</td>\n",
              "      <td>1</td>\n",
              "      <td>2</td>\n",
              "      <td>W./C. 6607</td>\n",
              "      <td>23.4500</td>\n",
              "      <td>NaN</td>\n",
              "      <td>S</td>\n",
              "    </tr>\n",
              "    <tr>\n",
              "      <th>889</th>\n",
              "      <td>890</td>\n",
              "      <td>1</td>\n",
              "      <td>1</td>\n",
              "      <td>Behr, Mr. Karl Howell</td>\n",
              "      <td>male</td>\n",
              "      <td>26.0</td>\n",
              "      <td>0</td>\n",
              "      <td>0</td>\n",
              "      <td>111369</td>\n",
              "      <td>30.0000</td>\n",
              "      <td>C148</td>\n",
              "      <td>C</td>\n",
              "    </tr>\n",
              "    <tr>\n",
              "      <th>890</th>\n",
              "      <td>891</td>\n",
              "      <td>0</td>\n",
              "      <td>3</td>\n",
              "      <td>Dooley, Mr. Patrick</td>\n",
              "      <td>male</td>\n",
              "      <td>32.0</td>\n",
              "      <td>0</td>\n",
              "      <td>0</td>\n",
              "      <td>370376</td>\n",
              "      <td>7.7500</td>\n",
              "      <td>NaN</td>\n",
              "      <td>Q</td>\n",
              "    </tr>\n",
              "  </tbody>\n",
              "</table>\n",
              "<p>891 rows × 12 columns</p>\n",
              "</div>"
            ],
            "text/plain": [
              "     PassengerId  Survived  Pclass  ...     Fare Cabin  Embarked\n",
              "0              1         0       3  ...   7.2500   NaN         S\n",
              "1              2         1       1  ...  71.2833   C85         C\n",
              "2              3         1       3  ...   7.9250   NaN         S\n",
              "3              4         1       1  ...  53.1000  C123         S\n",
              "4              5         0       3  ...   8.0500   NaN         S\n",
              "..           ...       ...     ...  ...      ...   ...       ...\n",
              "886          887         0       2  ...  13.0000   NaN         S\n",
              "887          888         1       1  ...  30.0000   B42         S\n",
              "888          889         0       3  ...  23.4500   NaN         S\n",
              "889          890         1       1  ...  30.0000  C148         C\n",
              "890          891         0       3  ...   7.7500   NaN         Q\n",
              "\n",
              "[891 rows x 12 columns]"
            ]
          },
          "metadata": {
            "tags": []
          },
          "execution_count": 3
        }
      ]
    },
    {
      "cell_type": "markdown",
      "metadata": {
        "id": "kiwPOa63X2Pq"
      },
      "source": [
        "Calculate the average age of passeners\n",
        "(1 point)"
      ]
    },
    {
      "cell_type": "code",
      "metadata": {
        "id": "_iIJZcujYAab",
        "colab": {
          "base_uri": "https://localhost:8080/"
        },
        "outputId": "06b39ca4-3bf7-4bc4-e653-56d4755d3737"
      },
      "source": [
        "age_data = titanic[\"Age\"]\n",
        "age_data.mean()"
      ],
      "execution_count": null,
      "outputs": [
        {
          "output_type": "execute_result",
          "data": {
            "text/plain": [
              "29.69911764705882"
            ]
          },
          "metadata": {
            "tags": []
          },
          "execution_count": 4
        }
      ]
    },
    {
      "cell_type": "markdown",
      "metadata": {
        "id": "46Cz0jGMYGf_"
      },
      "source": [
        "Calculate the percentage of male and female passengers\n",
        "(1 point)"
      ]
    },
    {
      "cell_type": "code",
      "metadata": {
        "id": "Az0NgvZRYN6a",
        "colab": {
          "base_uri": "https://localhost:8080/"
        },
        "outputId": "80985f08-d0ea-4b8e-f15a-c60589f91613"
      },
      "source": [
        "n_all = len(titanic.index)  # number of all passengers\n",
        "n_male =  len(titanic[titanic[\"Sex\"] == \"male\"]) # Your code here\n",
        "n_female =  len(titanic[titanic[\"Sex\"] == \"female\"]) # Your code here\n",
        "print(f'male: {n_male/n_all*100:.1f}%, female: {n_female/n_all*100:.1f}%')"
      ],
      "execution_count": null,
      "outputs": [
        {
          "output_type": "stream",
          "text": [
            "male: 64.8%, female: 35.2%\n"
          ],
          "name": "stdout"
        }
      ]
    },
    {
      "cell_type": "markdown",
      "metadata": {
        "id": "pWpqSo4lZheB"
      },
      "source": [
        "Create a DataFrame of passenger who survived\n",
        "(1 point)"
      ]
    },
    {
      "cell_type": "code",
      "metadata": {
        "id": "9b6-BeG8agA3",
        "colab": {
          "base_uri": "https://localhost:8080/",
          "height": 402
        },
        "outputId": "e8528dc8-f344-4ee0-f961-027a6253e1d0"
      },
      "source": [
        "titanic_survived =  pd.DataFrame({\n",
        "    'Name' : titanic[\"Name\"],\n",
        "    'Survived' : titanic[\"Survived\"] == 1\n",
        "}) # Your code here\n",
        "titanic_survived"
      ],
      "execution_count": null,
      "outputs": [
        {
          "output_type": "execute_result",
          "data": {
            "text/html": [
              "<div>\n",
              "<style scoped>\n",
              "    .dataframe tbody tr th:only-of-type {\n",
              "        vertical-align: middle;\n",
              "    }\n",
              "\n",
              "    .dataframe tbody tr th {\n",
              "        vertical-align: top;\n",
              "    }\n",
              "\n",
              "    .dataframe thead th {\n",
              "        text-align: right;\n",
              "    }\n",
              "</style>\n",
              "<table border=\"1\" class=\"dataframe\">\n",
              "  <thead>\n",
              "    <tr style=\"text-align: right;\">\n",
              "      <th></th>\n",
              "      <th>Name</th>\n",
              "      <th>Survived</th>\n",
              "    </tr>\n",
              "  </thead>\n",
              "  <tbody>\n",
              "    <tr>\n",
              "      <th>0</th>\n",
              "      <td>Braund, Mr. Owen Harris</td>\n",
              "      <td>False</td>\n",
              "    </tr>\n",
              "    <tr>\n",
              "      <th>1</th>\n",
              "      <td>Cumings, Mrs. John Bradley (Florence Briggs Th...</td>\n",
              "      <td>True</td>\n",
              "    </tr>\n",
              "    <tr>\n",
              "      <th>2</th>\n",
              "      <td>Heikkinen, Miss. Laina</td>\n",
              "      <td>True</td>\n",
              "    </tr>\n",
              "    <tr>\n",
              "      <th>3</th>\n",
              "      <td>Futrelle, Mrs. Jacques Heath (Lily May Peel)</td>\n",
              "      <td>True</td>\n",
              "    </tr>\n",
              "    <tr>\n",
              "      <th>4</th>\n",
              "      <td>Allen, Mr. William Henry</td>\n",
              "      <td>False</td>\n",
              "    </tr>\n",
              "    <tr>\n",
              "      <th>...</th>\n",
              "      <td>...</td>\n",
              "      <td>...</td>\n",
              "    </tr>\n",
              "    <tr>\n",
              "      <th>886</th>\n",
              "      <td>Montvila, Rev. Juozas</td>\n",
              "      <td>False</td>\n",
              "    </tr>\n",
              "    <tr>\n",
              "      <th>887</th>\n",
              "      <td>Graham, Miss. Margaret Edith</td>\n",
              "      <td>True</td>\n",
              "    </tr>\n",
              "    <tr>\n",
              "      <th>888</th>\n",
              "      <td>Johnston, Miss. Catherine Helen \"Carrie\"</td>\n",
              "      <td>False</td>\n",
              "    </tr>\n",
              "    <tr>\n",
              "      <th>889</th>\n",
              "      <td>Behr, Mr. Karl Howell</td>\n",
              "      <td>True</td>\n",
              "    </tr>\n",
              "    <tr>\n",
              "      <th>890</th>\n",
              "      <td>Dooley, Mr. Patrick</td>\n",
              "      <td>False</td>\n",
              "    </tr>\n",
              "  </tbody>\n",
              "</table>\n",
              "<p>891 rows × 2 columns</p>\n",
              "</div>"
            ],
            "text/plain": [
              "                                                  Name  Survived\n",
              "0                              Braund, Mr. Owen Harris     False\n",
              "1    Cumings, Mrs. John Bradley (Florence Briggs Th...      True\n",
              "2                               Heikkinen, Miss. Laina      True\n",
              "3         Futrelle, Mrs. Jacques Heath (Lily May Peel)      True\n",
              "4                             Allen, Mr. William Henry     False\n",
              "..                                                 ...       ...\n",
              "886                              Montvila, Rev. Juozas     False\n",
              "887                       Graham, Miss. Margaret Edith      True\n",
              "888           Johnston, Miss. Catherine Helen \"Carrie\"     False\n",
              "889                              Behr, Mr. Karl Howell      True\n",
              "890                                Dooley, Mr. Patrick     False\n",
              "\n",
              "[891 rows x 2 columns]"
            ]
          },
          "metadata": {
            "tags": []
          },
          "execution_count": 17
        }
      ]
    },
    {
      "cell_type": "markdown",
      "metadata": {
        "id": "CoPbG2Awav9f"
      },
      "source": [
        "What's the average age of survived passengers compared to those who did not survive?\n",
        "(1 point)"
      ]
    },
    {
      "cell_type": "code",
      "metadata": {
        "id": "OH8bYQ-0a4Az",
        "colab": {
          "base_uri": "https://localhost:8080/"
        },
        "outputId": "a6db9599-db71-4e91-ca12-09fbbee87900"
      },
      "source": [
        "import numpy as np\n",
        "sum_age_survived = []\n",
        "sum_age_did_not_survived = []\n",
        "titanic[\"Age\"] = titanic[\"Age\"].replace(np.NaN, 999)\n",
        "for i in range(len(titanic.index)):\n",
        "  if titanic[\"Age\"][i] == 999:\n",
        "    pass\n",
        "  else:\n",
        "    if titanic[\"Survived\"][i] == 1:\n",
        "      sum_age_survived.append(titanic[\"Age\"][i])\n",
        "    else:\n",
        "      sum_age_did_not_survived.append(titanic[\"Age\"][i])\n",
        "mean_age_survived = sum(sum_age_survived) / len(sum_age_survived)# Your code here\n",
        "mean_age_did_not_survive = sum(sum_age_did_not_survived) / len(sum_age_did_not_survived) # Your code here\n",
        "print(f'mean_age_survived: {mean_age_survived:.1f}, mean_age_did_not_survive: {mean_age_did_not_survive:.1f}')"
      ],
      "execution_count": 9,
      "outputs": [
        {
          "output_type": "stream",
          "text": [
            "mean_age_survived: 28.3, mean_age_did_not_survive: 30.6\n"
          ],
          "name": "stdout"
        }
      ]
    },
    {
      "cell_type": "markdown",
      "metadata": {
        "id": "NeuiBHBLbLku"
      },
      "source": [
        "Rename passengers who did not survive to 'anonymous'\n",
        "(2 points)"
      ]
    },
    {
      "cell_type": "code",
      "metadata": {
        "id": "S2epIZ6fbYk8",
        "colab": {
          "base_uri": "https://localhost:8080/",
          "height": 486
        },
        "outputId": "6444fef6-3432-4619-8cdb-0aa46a466bc5"
      },
      "source": [
        "titanic_renamed = titanic.copy()\n",
        "# Your code here\n",
        "for i in range(len(titanic_renamed.index)):\n",
        "  if titanic_renamed[\"Survived\"][i] == 0:\n",
        "    titanic_renamed[\"Name\"][i] = \"anonymous\"\n",
        "titanic_renamed"
      ],
      "execution_count": null,
      "outputs": [
        {
          "output_type": "stream",
          "text": [
            "/usr/local/lib/python3.7/dist-packages/ipykernel_launcher.py:5: SettingWithCopyWarning: \n",
            "A value is trying to be set on a copy of a slice from a DataFrame\n",
            "\n",
            "See the caveats in the documentation: https://pandas.pydata.org/pandas-docs/stable/user_guide/indexing.html#returning-a-view-versus-a-copy\n",
            "  \"\"\"\n"
          ],
          "name": "stderr"
        },
        {
          "output_type": "execute_result",
          "data": {
            "text/html": [
              "<div>\n",
              "<style scoped>\n",
              "    .dataframe tbody tr th:only-of-type {\n",
              "        vertical-align: middle;\n",
              "    }\n",
              "\n",
              "    .dataframe tbody tr th {\n",
              "        vertical-align: top;\n",
              "    }\n",
              "\n",
              "    .dataframe thead th {\n",
              "        text-align: right;\n",
              "    }\n",
              "</style>\n",
              "<table border=\"1\" class=\"dataframe\">\n",
              "  <thead>\n",
              "    <tr style=\"text-align: right;\">\n",
              "      <th></th>\n",
              "      <th>PassengerId</th>\n",
              "      <th>Survived</th>\n",
              "      <th>Pclass</th>\n",
              "      <th>Name</th>\n",
              "      <th>Sex</th>\n",
              "      <th>Age</th>\n",
              "      <th>SibSp</th>\n",
              "      <th>Parch</th>\n",
              "      <th>Ticket</th>\n",
              "      <th>Fare</th>\n",
              "      <th>Cabin</th>\n",
              "      <th>Embarked</th>\n",
              "    </tr>\n",
              "  </thead>\n",
              "  <tbody>\n",
              "    <tr>\n",
              "      <th>0</th>\n",
              "      <td>1</td>\n",
              "      <td>0</td>\n",
              "      <td>3</td>\n",
              "      <td>anonymous</td>\n",
              "      <td>male</td>\n",
              "      <td>22.0</td>\n",
              "      <td>1</td>\n",
              "      <td>0</td>\n",
              "      <td>A/5 21171</td>\n",
              "      <td>7.2500</td>\n",
              "      <td>NaN</td>\n",
              "      <td>S</td>\n",
              "    </tr>\n",
              "    <tr>\n",
              "      <th>1</th>\n",
              "      <td>2</td>\n",
              "      <td>1</td>\n",
              "      <td>1</td>\n",
              "      <td>Cumings, Mrs. John Bradley (Florence Briggs Th...</td>\n",
              "      <td>female</td>\n",
              "      <td>38.0</td>\n",
              "      <td>1</td>\n",
              "      <td>0</td>\n",
              "      <td>PC 17599</td>\n",
              "      <td>71.2833</td>\n",
              "      <td>C85</td>\n",
              "      <td>C</td>\n",
              "    </tr>\n",
              "    <tr>\n",
              "      <th>2</th>\n",
              "      <td>3</td>\n",
              "      <td>1</td>\n",
              "      <td>3</td>\n",
              "      <td>Heikkinen, Miss. Laina</td>\n",
              "      <td>female</td>\n",
              "      <td>26.0</td>\n",
              "      <td>0</td>\n",
              "      <td>0</td>\n",
              "      <td>STON/O2. 3101282</td>\n",
              "      <td>7.9250</td>\n",
              "      <td>NaN</td>\n",
              "      <td>S</td>\n",
              "    </tr>\n",
              "    <tr>\n",
              "      <th>3</th>\n",
              "      <td>4</td>\n",
              "      <td>1</td>\n",
              "      <td>1</td>\n",
              "      <td>Futrelle, Mrs. Jacques Heath (Lily May Peel)</td>\n",
              "      <td>female</td>\n",
              "      <td>35.0</td>\n",
              "      <td>1</td>\n",
              "      <td>0</td>\n",
              "      <td>113803</td>\n",
              "      <td>53.1000</td>\n",
              "      <td>C123</td>\n",
              "      <td>S</td>\n",
              "    </tr>\n",
              "    <tr>\n",
              "      <th>4</th>\n",
              "      <td>5</td>\n",
              "      <td>0</td>\n",
              "      <td>3</td>\n",
              "      <td>anonymous</td>\n",
              "      <td>male</td>\n",
              "      <td>35.0</td>\n",
              "      <td>0</td>\n",
              "      <td>0</td>\n",
              "      <td>373450</td>\n",
              "      <td>8.0500</td>\n",
              "      <td>NaN</td>\n",
              "      <td>S</td>\n",
              "    </tr>\n",
              "    <tr>\n",
              "      <th>...</th>\n",
              "      <td>...</td>\n",
              "      <td>...</td>\n",
              "      <td>...</td>\n",
              "      <td>...</td>\n",
              "      <td>...</td>\n",
              "      <td>...</td>\n",
              "      <td>...</td>\n",
              "      <td>...</td>\n",
              "      <td>...</td>\n",
              "      <td>...</td>\n",
              "      <td>...</td>\n",
              "      <td>...</td>\n",
              "    </tr>\n",
              "    <tr>\n",
              "      <th>886</th>\n",
              "      <td>887</td>\n",
              "      <td>0</td>\n",
              "      <td>2</td>\n",
              "      <td>anonymous</td>\n",
              "      <td>male</td>\n",
              "      <td>27.0</td>\n",
              "      <td>0</td>\n",
              "      <td>0</td>\n",
              "      <td>211536</td>\n",
              "      <td>13.0000</td>\n",
              "      <td>NaN</td>\n",
              "      <td>S</td>\n",
              "    </tr>\n",
              "    <tr>\n",
              "      <th>887</th>\n",
              "      <td>888</td>\n",
              "      <td>1</td>\n",
              "      <td>1</td>\n",
              "      <td>Graham, Miss. Margaret Edith</td>\n",
              "      <td>female</td>\n",
              "      <td>19.0</td>\n",
              "      <td>0</td>\n",
              "      <td>0</td>\n",
              "      <td>112053</td>\n",
              "      <td>30.0000</td>\n",
              "      <td>B42</td>\n",
              "      <td>S</td>\n",
              "    </tr>\n",
              "    <tr>\n",
              "      <th>888</th>\n",
              "      <td>889</td>\n",
              "      <td>0</td>\n",
              "      <td>3</td>\n",
              "      <td>anonymous</td>\n",
              "      <td>female</td>\n",
              "      <td>NaN</td>\n",
              "      <td>1</td>\n",
              "      <td>2</td>\n",
              "      <td>W./C. 6607</td>\n",
              "      <td>23.4500</td>\n",
              "      <td>NaN</td>\n",
              "      <td>S</td>\n",
              "    </tr>\n",
              "    <tr>\n",
              "      <th>889</th>\n",
              "      <td>890</td>\n",
              "      <td>1</td>\n",
              "      <td>1</td>\n",
              "      <td>Behr, Mr. Karl Howell</td>\n",
              "      <td>male</td>\n",
              "      <td>26.0</td>\n",
              "      <td>0</td>\n",
              "      <td>0</td>\n",
              "      <td>111369</td>\n",
              "      <td>30.0000</td>\n",
              "      <td>C148</td>\n",
              "      <td>C</td>\n",
              "    </tr>\n",
              "    <tr>\n",
              "      <th>890</th>\n",
              "      <td>891</td>\n",
              "      <td>0</td>\n",
              "      <td>3</td>\n",
              "      <td>anonymous</td>\n",
              "      <td>male</td>\n",
              "      <td>32.0</td>\n",
              "      <td>0</td>\n",
              "      <td>0</td>\n",
              "      <td>370376</td>\n",
              "      <td>7.7500</td>\n",
              "      <td>NaN</td>\n",
              "      <td>Q</td>\n",
              "    </tr>\n",
              "  </tbody>\n",
              "</table>\n",
              "<p>891 rows × 12 columns</p>\n",
              "</div>"
            ],
            "text/plain": [
              "     PassengerId  Survived  Pclass  ...     Fare Cabin  Embarked\n",
              "0              1         0       3  ...   7.2500   NaN         S\n",
              "1              2         1       1  ...  71.2833   C85         C\n",
              "2              3         1       3  ...   7.9250   NaN         S\n",
              "3              4         1       1  ...  53.1000  C123         S\n",
              "4              5         0       3  ...   8.0500   NaN         S\n",
              "..           ...       ...     ...  ...      ...   ...       ...\n",
              "886          887         0       2  ...  13.0000   NaN         S\n",
              "887          888         1       1  ...  30.0000   B42         S\n",
              "888          889         0       3  ...  23.4500   NaN         S\n",
              "889          890         1       1  ...  30.0000  C148         C\n",
              "890          891         0       3  ...   7.7500   NaN         Q\n",
              "\n",
              "[891 rows x 12 columns]"
            ]
          },
          "metadata": {
            "tags": []
          },
          "execution_count": 5
        }
      ]
    },
    {
      "cell_type": "markdown",
      "metadata": {
        "id": "ViqEUVOBdDVm"
      },
      "source": [
        "Calculate average fare for passenger class (Pclass) 1, 2, and 3\n",
        "(2 points)"
      ]
    },
    {
      "cell_type": "code",
      "metadata": {
        "id": "2JH13UQadFPc",
        "colab": {
          "base_uri": "https://localhost:8080/"
        },
        "outputId": "9a2a7e55-3d64-4565-fff3-d721d0765498"
      },
      "source": [
        "sum_fare_c1 = 0\n",
        "sum_fare_c2 = 0\n",
        "sum_fare_c3 = 0\n",
        "for i in range(len(titanic.index)):\n",
        "  if titanic[\"Pclass\"][i] == 1:\n",
        "    sum_fare_c1 += titanic[\"Fare\"][i]\n",
        "  elif titanic[\"Pclass\"][i] == 2:\n",
        "    sum_fare_c2 += titanic[\"Fare\"][i]\n",
        "  elif titanic[\"Pclass\"][i] == 3:\n",
        "    sum_fare_c3 += titanic[\"Fare\"][i]    \n",
        "avg_class_1 = sum_fare_c1 / len(titanic.index)  # Your code here\n",
        "avg_class_2 = sum_fare_c2 / len(titanic.index) # Your code here\n",
        "avg_class_3 = sum_fare_c3 / len(titanic.index)  # Your code here\n",
        "print(f'Average fare by class - 1st Class: {avg_class_1:.1f}, 2nd Class: {avg_class_2:.1f}, 3rd Class: {avg_class_3:.1f}')"
      ],
      "execution_count": null,
      "outputs": [
        {
          "output_type": "stream",
          "text": [
            "Average fare by class - 1st Class: 20.4, 2nd Class: 4.3, 3rd Class: 7.5\n"
          ],
          "name": "stdout"
        }
      ]
    },
    {
      "cell_type": "markdown",
      "metadata": {
        "id": "SFdVlNp4ecvD"
      },
      "source": [
        "Calculate the percentage of passengers who survived in each class\n",
        "(2 points)"
      ]
    },
    {
      "cell_type": "code",
      "metadata": {
        "id": "6lM_ODUqelz7",
        "colab": {
          "base_uri": "https://localhost:8080/"
        },
        "outputId": "9c50e77d-26de-4165-8f62-9434ee6f6f88"
      },
      "source": [
        "n_1 = 0  # Your code here\n",
        "n_2 = 0  # Your code here\n",
        "n_3 = 0  # Your code here\n",
        "\n",
        "n_survived_1 = 0  # Your code here\n",
        "n_survived_2 = 0  # Your code here\n",
        "n_survived_3 = 0  # Your code here\n",
        "\n",
        "for i in range(len(titanic.index)):\n",
        "  if titanic[\"Pclass\"][i] == 1:\n",
        "    n_1 += 1\n",
        "    if titanic[\"Survived\"][i] == 1:\n",
        "      n_survived_1 += 1\n",
        "  elif titanic[\"Pclass\"][i] == 2:\n",
        "    n_2 += 1\n",
        "    if titanic[\"Survived\"][i] == 1:\n",
        "      n_survived_2 += 1\n",
        "  elif titanic[\"Pclass\"][i] == 3:\n",
        "    n_3 += 1\n",
        "    if titanic[\"Survived\"][i] == 1:\n",
        "      n_survived_3 += 1        \n",
        "print(f'Survival by class - 1st Class: {n_survived_1/n_1*100:.1f}%, 2nd Class: {n_survived_2/n_2*100:.1f}%, 3rd Class: {n_survived_3/n_3*100:.1f}%')"
      ],
      "execution_count": null,
      "outputs": [
        {
          "output_type": "stream",
          "text": [
            "Survival by class - 1st Class: 63.0%, 2nd Class: 47.3%, 3rd Class: 24.2%\n"
          ],
          "name": "stdout"
        }
      ]
    }
  ]
}